{
 "cells": [
  {
   "cell_type": "code",
   "execution_count": 3,
   "metadata": {
    "collapsed": false
   },
   "outputs": [],
   "source": [
    "import csv\n",
    "import sqlite3 as lite\n",
    "\n",
    "con = lite.connect('social_stats.db')\n",
    "cur = con.cursor()\n",
    "\n",
    "with con:\n",
    "    cur.execute('CREATE TABLE gdp (country_name TEXT, _1999 REAL, _2000 REAL, _2001 REAL, _2002 REAL, _2003 REAL, _2004 REAL, _2005 REAL, _2006 REAL, _2007 REAL, _2008 REAL, _2009 REAL, _2010 REAL);')\n",
    "with open('API_NY.GDP.MKTP.CD_DS2_en_csv_v2.csv', 'rU') as inputFile:\n",
    "    next(inputFile)\n",
    "    next(inputFile)\n",
    "    header = next(inputFile)\n",
    "    inputReader = csv.reader(inputFile)\n",
    "    #for line in inputReader:\n",
    "        #with con:\n",
    "            #cur.execute('INSERT INTO gdp (country_name, _1999, _2000, _2001, _2002, _2003, _2004, _2005, _2006, _2007, _2008, _2009, _2010) VALUES (\"' + line[0] + '\",\"' + '\",\"'.join(line[42:-5]) + '\");)"
   ]
  },
  {
   "cell_type": "code",
   "execution_count": null,
   "metadata": {
    "collapsed": true
   },
   "outputs": [],
   "source": []
  }
 ],
 "metadata": {
  "kernelspec": {
   "display_name": "Python 2",
   "language": "python",
   "name": "python2"
  },
  "language_info": {
   "codemirror_mode": {
    "name": "ipython",
    "version": 2
   },
   "file_extension": ".py",
   "mimetype": "text/x-python",
   "name": "python",
   "nbconvert_exporter": "python",
   "pygments_lexer": "ipython2",
   "version": "2.7.10"
  }
 },
 "nbformat": 4,
 "nbformat_minor": 0
}
