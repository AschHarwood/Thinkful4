{
 "cells": [
  {
   "cell_type": "markdown",
   "metadata": {},
   "source": [
    "Take the loan data and process it as you did previously to build your linear regression model.\n",
    "\n",
    "Break the data-set into 10 segments following the example provided here in KFold .\n",
    "\n",
    "Compute each of the performance metric (MAE, MSE or R2) for all the folds. The average would be the performance of your model.\n",
    "\n",
    "Comment on each of the performance metric you obtained.\n"
   ]
  },
  {
   "cell_type": "code",
   "execution_count": null,
   "metadata": {
    "collapsed": true
   },
   "outputs": [],
   "source": []
  },
  {
   "cell_type": "markdown",
   "metadata": {},
   "source": [
    "Take the loan data and process it as you did previously to build your linear regression model."
   ]
  },
  {
   "cell_type": "code",
   "execution_count": null,
   "metadata": {
    "collapsed": false
   },
   "outputs": [],
   "source": [
    "import numpy as np \n",
    "import pandas as pd \n",
    "import statsmodels.api as sm \n",
    "\n",
    "loansData = pd.read_csv('https://github.com/Thinkful-Ed/curric-data-001-data-sets/raw/master/loans/loansData.csv')\n",
    "\n",
    "\"\"\"Cleaning Interest.Rate Column\"\"\"\n",
    "\n",
    "cleanInterestRate = loansData['Interest.Rate'].map(lambda x: round((float(x.rstrip('%'))/100),4))\n",
    "\t\n",
    "\n",
    "\n",
    "\"\"\"Cleaning Loan.Length Column\"\"\"\n",
    "\n",
    "cleanLoanlength = loansData['Loan.Length'].map(lambda x: (float(x.rstrip('months'))))\n",
    "\n",
    "\"\"\"Clean Fico Range\"\"\"\n",
    "#converting string object to list\n",
    "\n",
    "cleanFicorange = loansData['FICO.Range'].map(lambda x: x.split('-'))\n",
    "cleanFicorange = cleanFicorange.map(lambda x: [int(n) for n in x])\n",
    "cleanFicorange = cleanFicorange.map(lambda x: x[0])\n",
    "\n",
    "\"\"\"rename Fico Range Column\"\"\"\n",
    "loansData.rename(columns={'FICO.Range':'FICO.Score'}, inplace=True)\n",
    "\n",
    "\"\"\"Convert columns in open file\"\"\"\n",
    "loansData['FICO.Score'] = cleanFicorange\n",
    "\n",
    "loansData['Interest.Rate'] = cleanInterestRate\n",
    "loansData['Loan.Length'] = cleanLoanlength\t\n",
    "\n",
    "\"\"\"building LS model\"\"\"\n",
    "\n",
    "intrate = loansData['Interest.Rate'] #series is the datatype\n",
    "loanamt = loansData['Amount.Requested']\n",
    "fico = loansData['FICO.Score']\n",
    "\n",
    "y = np.matrix(intrate).transpose() #creates dependedant varialbe, converts from series datatype to matrix datatype\n",
    "x1 = np.matrix(fico).transpose()\n",
    "x2 = np.matrix(loanamt).transpose()\n",
    "x = np.column_stack([x1,x2]) #puts the two matrix columns above into one matrix"
   ]
  },
  {
   "cell_type": "markdown",
   "metadata": {},
   "source": [
    "Break the data-set into 10 segments following the example provided here in KFold ."
   ]
  },
  {
   "cell_type": "code",
   "execution_count": null,
   "metadata": {
    "collapsed": false
   },
   "outputs": [],
   "source": [
    "from sklearn.cross_validation import KFold\n",
    "\n",
    "kf = KFold(2500, n_folds=10)\n",
    "for train, test in kf:\n",
    "    print(\"%s %s\" % (train, test))\n",
    "#x_train, x_test, y_train, y_test = x[train], x[test], y[train], y[test]\n"
   ]
  },
  {
   "cell_type": "code",
   "execution_count": 5,
   "metadata": {
    "collapsed": false
   },
   "outputs": [
    {
     "ename": "SyntaxError",
     "evalue": "non-keyword arg after keyword arg (<ipython-input-5-624c0e999ec3>, line 3)",
     "output_type": "error",
     "traceback": [
      "\u001b[0;36m  File \u001b[0;32m\"<ipython-input-5-624c0e999ec3>\"\u001b[0;36m, line \u001b[0;32m3\u001b[0m\n\u001b[0;31m    poly_1 = smf.ols(formula='y ~ 1 + X', data=x_train, y_train).fit()\u001b[0m\n\u001b[0;31mSyntaxError\u001b[0m\u001b[0;31m:\u001b[0m non-keyword arg after keyword arg\n"
     ]
    }
   ],
   "source": [
    "%matplotlib inline\n",
    "#linear\n",
    "poly_1 = smf.ols(formula='y ~ 1 + X', data=x_train, y_train).fit()\n",
    "pred = poly_1.predict(test_df)\n",
    "actual = np.array(test_df['y'].tolist())\n",
    "\n",
    "from sklearn.metrics import mean_squared_error\n",
    "mse = mean_squared_error(actual,pred)\n",
    "mse"
   ]
  },
  {
   "cell_type": "markdown",
   "metadata": {},
   "source": [
    "Compute each of the performance metric (MAE, MSE or R2) for all the folds. The average would be the performance of your model."
   ]
  },
  {
   "cell_type": "code",
   "execution_count": null,
   "metadata": {
    "collapsed": true
   },
   "outputs": [],
   "source": []
  }
 ],
 "metadata": {
  "kernelspec": {
   "display_name": "Python 2",
   "language": "python",
   "name": "python2"
  },
  "language_info": {
   "codemirror_mode": {
    "name": "ipython",
    "version": 2
   },
   "file_extension": ".py",
   "mimetype": "text/x-python",
   "name": "python",
   "nbconvert_exporter": "python",
   "pygments_lexer": "ipython2",
   "version": "2.7.11"
  }
 },
 "nbformat": 4,
 "nbformat_minor": 0
}
