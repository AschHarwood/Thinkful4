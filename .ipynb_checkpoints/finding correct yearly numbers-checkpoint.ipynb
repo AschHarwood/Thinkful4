{
 "cells": [
  {
   "cell_type": "code",
   "execution_count": 1,
   "metadata": {
    "collapsed": true
   },
   "outputs": [],
   "source": [
    "import sqlite3 as lite\n",
    "import pandas as pd\n",
    "import numpy as np\n",
    "import statsmodels.api as sm\n",
    "from pandas.tools.plotting import scatter_matrix"
   ]
  },
  {
   "cell_type": "code",
   "execution_count": 2,
   "metadata": {
    "collapsed": true
   },
   "outputs": [],
   "source": [
    "con = lite.connect('social_stats.db')\n",
    "cur = con.cursor()"
   ]
  },
  {
   "cell_type": "code",
   "execution_count": 3,
   "metadata": {
    "collapsed": true
   },
   "outputs": [],
   "source": [
    "join_command = 'SELECT country, year, men_years, women_years, total_years, _1999, _2000, _2001, _2002, _2003, _2004, _2005, _2006, _2007, _2008, _2009, _2010 FROM education LEFT OUTER JOIN gdp ON education.country = gdp.country_name;'"
   ]
  },
  {
   "cell_type": "code",
   "execution_count": 4,
   "metadata": {
    "collapsed": true
   },
   "outputs": [],
   "source": [
    "with con:\n",
    "    cur.execute(join_command)\n",
    "    data = cur.fetchall()\n",
    "df_combined = pd.DataFrame(data)"
   ]
  },
  {
   "cell_type": "code",
   "execution_count": 92,
   "metadata": {
    "collapsed": true
   },
   "outputs": [],
   "source": [
    "df_combined_column_named = df_combined.rename(columns={0: 'country', 1: 'year', 2: 'men_ed_yrs', 3: 'women_ed_yrs', 4: 'total_ed_yrs', 5: '1999', 6: '2000', 7: '2001', 8: '2002', 9: '2003', 10: '2004', 11: '2005', 12: '2006', 13: '2007', 14: '2008', 15: '2009', 16: '2010'})"
   ]
  },
  {
   "cell_type": "code",
   "execution_count": null,
   "metadata": {
    "collapsed": true
   },
   "outputs": [],
   "source": []
  },
  {
   "cell_type": "code",
   "execution_count": 93,
   "metadata": {
    "collapsed": false
   },
   "outputs": [
    {
     "data": {
      "text/html": [
       "<div>\n",
       "<table border=\"1\" class=\"dataframe\">\n",
       "  <thead>\n",
       "    <tr style=\"text-align: right;\">\n",
       "      <th></th>\n",
       "      <th>country</th>\n",
       "      <th>year</th>\n",
       "      <th>men_ed_yrs</th>\n",
       "      <th>women_ed_yrs</th>\n",
       "      <th>total_ed_yrs</th>\n",
       "      <th>1999</th>\n",
       "      <th>2000</th>\n",
       "      <th>2001</th>\n",
       "      <th>2002</th>\n",
       "      <th>2003</th>\n",
       "      <th>2004</th>\n",
       "      <th>2005</th>\n",
       "      <th>2006</th>\n",
       "      <th>2007</th>\n",
       "      <th>2008</th>\n",
       "      <th>2009</th>\n",
       "      <th>2010</th>\n",
       "    </tr>\n",
       "  </thead>\n",
       "  <tbody>\n",
       "    <tr>\n",
       "      <th>0</th>\n",
       "      <td>Afghanistan</td>\n",
       "      <td>2004</td>\n",
       "      <td>11</td>\n",
       "      <td>5</td>\n",
       "      <td>8</td>\n",
       "      <td>NaN</td>\n",
       "      <td>NaN</td>\n",
       "      <td>2461666315</td>\n",
       "      <td>4128818042</td>\n",
       "      <td>4583648922</td>\n",
       "      <td>5285461999</td>\n",
       "      <td>6.275076e+09</td>\n",
       "      <td>7.057598e+09</td>\n",
       "      <td>9.843842e+09</td>\n",
       "      <td>1.019053e+10</td>\n",
       "      <td>1.248694e+10</td>\n",
       "      <td>1.593680e+10</td>\n",
       "    </tr>\n",
       "    <tr>\n",
       "      <th>1</th>\n",
       "      <td>Albania</td>\n",
       "      <td>2004</td>\n",
       "      <td>11</td>\n",
       "      <td>11</td>\n",
       "      <td>11</td>\n",
       "      <td>3414760915</td>\n",
       "      <td>3632043908</td>\n",
       "      <td>4060758804</td>\n",
       "      <td>4435078648</td>\n",
       "      <td>5746945913</td>\n",
       "      <td>7314865176</td>\n",
       "      <td>8.158549e+09</td>\n",
       "      <td>8.992642e+09</td>\n",
       "      <td>1.070101e+10</td>\n",
       "      <td>1.288135e+10</td>\n",
       "      <td>1.204421e+10</td>\n",
       "      <td>1.192695e+10</td>\n",
       "    </tr>\n",
       "    <tr>\n",
       "      <th>2</th>\n",
       "      <td>Algeria</td>\n",
       "      <td>2005</td>\n",
       "      <td>13</td>\n",
       "      <td>13</td>\n",
       "      <td>13</td>\n",
       "      <td>48640611686</td>\n",
       "      <td>54790060513</td>\n",
       "      <td>54744714110</td>\n",
       "      <td>56760288396</td>\n",
       "      <td>67863829705</td>\n",
       "      <td>85324998959</td>\n",
       "      <td>1.030000e+11</td>\n",
       "      <td>1.170000e+11</td>\n",
       "      <td>1.350000e+11</td>\n",
       "      <td>1.710000e+11</td>\n",
       "      <td>1.370000e+11</td>\n",
       "      <td>1.610000e+11</td>\n",
       "    </tr>\n",
       "    <tr>\n",
       "      <th>3</th>\n",
       "      <td>Andorra</td>\n",
       "      <td>2008</td>\n",
       "      <td>11</td>\n",
       "      <td>12</td>\n",
       "      <td>11</td>\n",
       "      <td>1239840270</td>\n",
       "      <td>1401694156</td>\n",
       "      <td>1484004617</td>\n",
       "      <td>1717563533</td>\n",
       "      <td>2373836214</td>\n",
       "      <td>2916913449</td>\n",
       "      <td>3.248135e+09</td>\n",
       "      <td>3.536452e+09</td>\n",
       "      <td>4.010785e+09</td>\n",
       "      <td>4.001349e+09</td>\n",
       "      <td>3.649863e+09</td>\n",
       "      <td>3.346317e+09</td>\n",
       "    </tr>\n",
       "    <tr>\n",
       "      <th>4</th>\n",
       "      <td>Anguilla</td>\n",
       "      <td>2008</td>\n",
       "      <td>11</td>\n",
       "      <td>11</td>\n",
       "      <td>11</td>\n",
       "      <td>NaN</td>\n",
       "      <td>NaN</td>\n",
       "      <td>NaN</td>\n",
       "      <td>NaN</td>\n",
       "      <td>NaN</td>\n",
       "      <td>NaN</td>\n",
       "      <td>NaN</td>\n",
       "      <td>NaN</td>\n",
       "      <td>NaN</td>\n",
       "      <td>NaN</td>\n",
       "      <td>NaN</td>\n",
       "      <td>NaN</td>\n",
       "    </tr>\n",
       "  </tbody>\n",
       "</table>\n",
       "</div>"
      ],
      "text/plain": [
       "       country  year  men_ed_yrs  women_ed_yrs  total_ed_yrs         1999  \\\n",
       "0  Afghanistan  2004          11             5             8          NaN   \n",
       "1      Albania  2004          11            11            11   3414760915   \n",
       "2      Algeria  2005          13            13            13  48640611686   \n",
       "3      Andorra  2008          11            12            11   1239840270   \n",
       "4     Anguilla  2008          11            11            11          NaN   \n",
       "\n",
       "          2000         2001         2002         2003         2004  \\\n",
       "0          NaN   2461666315   4128818042   4583648922   5285461999   \n",
       "1   3632043908   4060758804   4435078648   5746945913   7314865176   \n",
       "2  54790060513  54744714110  56760288396  67863829705  85324998959   \n",
       "3   1401694156   1484004617   1717563533   2373836214   2916913449   \n",
       "4          NaN          NaN          NaN          NaN          NaN   \n",
       "\n",
       "           2005          2006          2007          2008          2009  \\\n",
       "0  6.275076e+09  7.057598e+09  9.843842e+09  1.019053e+10  1.248694e+10   \n",
       "1  8.158549e+09  8.992642e+09  1.070101e+10  1.288135e+10  1.204421e+10   \n",
       "2  1.030000e+11  1.170000e+11  1.350000e+11  1.710000e+11  1.370000e+11   \n",
       "3  3.248135e+09  3.536452e+09  4.010785e+09  4.001349e+09  3.649863e+09   \n",
       "4           NaN           NaN           NaN           NaN           NaN   \n",
       "\n",
       "           2010  \n",
       "0  1.593680e+10  \n",
       "1  1.192695e+10  \n",
       "2  1.610000e+11  \n",
       "3  3.346317e+09  \n",
       "4           NaN  "
      ]
     },
     "execution_count": 93,
     "metadata": {},
     "output_type": "execute_result"
    }
   ],
   "source": [
    "df_combined_column_named.head()"
   ]
  },
  {
   "cell_type": "code",
   "execution_count": 97,
   "metadata": {
    "collapsed": false
   },
   "outputs": [
    {
     "name": "stdout",
     "output_type": "stream",
     "text": [
      "                                              country  year         value\n",
      "0                                         Afghanistan  2004  5.285462e+09\n",
      "1                                             Albania  2004  7.314865e+09\n",
      "2                                             Algeria  2005  1.030000e+11\n",
      "3                                             Andorra  2008  4.001349e+09\n",
      "4                                            Anguilla  2008           NaN\n",
      "5                                             Austria  2008  4.280000e+11\n",
      "6                                          Azerbaijan  2008  4.885248e+10\n",
      "7                                             Bahrain  2006  1.850505e+10\n",
      "8                                          Bangladesh  2007  7.961189e+10\n",
      "9                                             Belarus  2007  4.527575e+10\n",
      "10                   Bolivia (Plurinational State of)  2007  1.312018e+10\n",
      "11                             Bosnia and Herzegovina  2009  1.760063e+10\n",
      "12                                           Botswana  2006  1.012694e+10\n",
      "13                                             Brazil  2008  1.700000e+12\n",
      "14                             British Virgin Islands  2005           NaN\n",
      "15                                           Cameroon  2009  2.338114e+10\n",
      "16                                             Canada  2002  7.530000e+11\n",
      "17                                         Cape Verde  2009  1.711817e+09\n",
      "18                                     Cayman Islands  2008           NaN\n",
      "19                           Central African Republic  2009  1.981728e+09\n",
      "20                                           Colombia  2009  2.340000e+11\n",
      "21                                            Comoros  2004  3.681431e+08\n",
      "22                                              Congo  2003  3.495869e+09\n",
      "23                                       Cook Islands  2010           NaN\n",
      "24                                         Costa Rica  2005  1.996493e+10\n",
      "25                   Democratic Republic of the Congo  2008  1.920606e+10\n",
      "26                                            Denmark  2008  3.530000e+11\n",
      "27                                           Djibouti  2007  8.479189e+08\n",
      "28                                           Dominica  2008  4.581481e+08\n",
      "29                                 Dominican Republic  2004  2.203921e+10\n",
      "..                                                ...   ...           ...\n",
      "63                                            Nigeria  2005  1.120000e+11\n",
      "64                                               Niue  2005           NaN\n",
      "65                                             Panama  2008  2.488400e+10\n",
      "66                                           Paraguay  2007  1.379491e+10\n",
      "67                                               Peru  2006  8.786209e+10\n",
      "68                                        Philippines  2008  1.740000e+11\n",
      "69                                             Poland  2008  5.300000e+11\n",
      "70                                 Russian Federation  2008  1.660000e+12\n",
      "71                                             Rwanda  2009  5.308990e+09\n",
      "72                                        Saint Lucia  2009  1.186800e+09\n",
      "73                   Saint Vincent and the Grenadines  2005  5.507287e+08\n",
      "74                                              Samoa  2001  2.730884e+08\n",
      "75                                       Sierra Leone  2001  1.079478e+09\n",
      "76                                           Slovakia  2008  1.000000e+11\n",
      "77                                           Slovenia  2008  5.558985e+10\n",
      "78                                    Solomon Islands  2006  4.567079e+08\n",
      "79                                              Spain  2008  1.630000e+12\n",
      "80                                           Thailand  2009  2.820000e+11\n",
      "81                                  TFYR of Macedonia  2008           NaN\n",
      "82                                            Tokelau  2004           NaN\n",
      "83                                              Tonga  2004  2.362474e+08\n",
      "84                                Trinidad and Tobago  2005  1.598228e+10\n",
      "85                                            Ukraine  2008  1.800000e+11\n",
      "86                               United Arab Emirates  2003  1.240000e+11\n",
      "87  United Kingdom of Great Britain and Northern I...  2008  2.790000e+12\n",
      "88                        United Republic of Tanzania  1999  9.697847e+09\n",
      "89                           United States of America  2008  1.470000e+13\n",
      "90                                              Yemen  2005  1.675377e+10\n",
      "91                                             Zambia  2000  3.600683e+09\n",
      "92                                           Zimbabwe  2003  5.727592e+09\n",
      "\n",
      "[93 rows x 3 columns]\n"
     ]
    }
   ],
   "source": [
    "data = [] #creates an empty list\n",
    "for idx, row in df_combined_column_named.iterrows(): \n",
    "    data.append((row['country'], row['year'], row[row['year']]))\n",
    "result = pd.DataFrame(data, columns=['country', 'year','value'])\n",
    "print(result)"
   ]
  },
  {
   "cell_type": "code",
   "execution_count": null,
   "metadata": {
    "collapsed": false
   },
   "outputs": [],
   "source": []
  },
  {
   "cell_type": "code",
   "execution_count": null,
   "metadata": {
    "collapsed": false
   },
   "outputs": [],
   "source": []
  },
  {
   "cell_type": "code",
   "execution_count": null,
   "metadata": {
    "collapsed": false
   },
   "outputs": [],
   "source": []
  },
  {
   "cell_type": "code",
   "execution_count": null,
   "metadata": {
    "collapsed": true
   },
   "outputs": [],
   "source": [
    "df.get_value('Afghanistan', '2004')"
   ]
  },
  {
   "cell_type": "code",
   "execution_count": null,
   "metadata": {
    "collapsed": false
   },
   "outputs": [],
   "source": []
  },
  {
   "cell_type": "code",
   "execution_count": null,
   "metadata": {
    "collapsed": false
   },
   "outputs": [],
   "source": []
  },
  {
   "cell_type": "code",
   "execution_count": null,
   "metadata": {
    "collapsed": true
   },
   "outputs": [],
   "source": []
  }
 ],
 "metadata": {
  "kernelspec": {
   "display_name": "Python 2",
   "language": "python",
   "name": "python2"
  },
  "language_info": {
   "codemirror_mode": {
    "name": "ipython",
    "version": 2
   },
   "file_extension": ".py",
   "mimetype": "text/x-python",
   "name": "python",
   "nbconvert_exporter": "python",
   "pygments_lexer": "ipython2",
   "version": "2.7.10"
  }
 },
 "nbformat": 4,
 "nbformat_minor": 0
}
