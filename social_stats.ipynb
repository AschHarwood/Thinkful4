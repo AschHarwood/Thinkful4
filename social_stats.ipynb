{
 "cells": [
  {
   "cell_type": "code",
   "execution_count": 117,
   "metadata": {
    "collapsed": false
   },
   "outputs": [],
   "source": [
    "import sqlite3 as lite\n",
    "import pandas as pd\n",
    "import numpy as np\n",
    "import statsmodels.api as sm\n",
    "from pandas.tools.plotting import scatter_matrix"
   ]
  },
  {
   "cell_type": "code",
   "execution_count": 118,
   "metadata": {
    "collapsed": true
   },
   "outputs": [],
   "source": [
    "con = lite.connect('social_stats.db')\n",
    "cur = con.cursor()"
   ]
  },
  {
   "cell_type": "code",
   "execution_count": 150,
   "metadata": {
    "collapsed": false,
    "scrolled": true
   },
   "outputs": [],
   "source": [
    "#with con:\n",
    "#    cur.execute(\"PRAGMA table_info(gdp)\")\n",
    "#    print(cur.fetchall())"
   ]
  },
  {
   "cell_type": "code",
   "execution_count": 151,
   "metadata": {
    "collapsed": false
   },
   "outputs": [],
   "source": [
    "#creates my sql join statement\n",
    "join_command = 'SELECT country, year, men_years, women_years, total_years, _1999, _2000, _2001, _2002, _2003, _2004, _2005, _2006, _2007, _2008, _2009, _2010 FROM education LEFT OUTER JOIN gdp ON education.country = gdp.country_name;'\n"
   ]
  },
  {
   "cell_type": "code",
   "execution_count": 121,
   "metadata": {
    "collapsed": false
   },
   "outputs": [],
   "source": [
    "#executes join and creates a dataframe\n",
    "with con:\n",
    "    cur.execute(join_command)\n",
    "    data = cur.fetchall()\n",
    "df_combined = pd.DataFrame(data)"
   ]
  },
  {
   "cell_type": "code",
   "execution_count": 149,
   "metadata": {
    "collapsed": false
   },
   "outputs": [],
   "source": [
    "#df_combined"
   ]
  },
  {
   "cell_type": "code",
   "execution_count": 132,
   "metadata": {
    "collapsed": true
   },
   "outputs": [],
   "source": [
    "#renames column headers\n",
    "df_combined_column_named = df_combined.rename(columns={0: 'country', 1: 'year', 2: 'men_ed_yrs', 3: 'women_ed_yrs', 4: 'total_ed_yrs', 5: '1999', 6: '2000', 7: '2001', 8: '2002', 9: '2003', 10: '2004', 11: '2005', 12: '2006', 13: '2007', 14: '2008', 15: '2009', 16: '2010'})"
   ]
  },
  {
   "cell_type": "code",
   "execution_count": 146,
   "metadata": {
    "collapsed": false
   },
   "outputs": [],
   "source": [
    "#does the log transformation on GDP\n",
    "log_gdp = np.log(df_combined_column_named['2006'])"
   ]
  },
  {
   "cell_type": "code",
   "execution_count": 156,
   "metadata": {
    "collapsed": false
   },
   "outputs": [],
   "source": [
    "# sets x and y\n",
    "X = df_combined_column_named[['men_ed_yrs', 'women_ed_yrs', 'total_ed_yrs']]\n",
    "y = log_gdp"
   ]
  },
  {
   "cell_type": "code",
   "execution_count": 157,
   "metadata": {
    "collapsed": false
   },
   "outputs": [
    {
     "data": {
      "text/html": [
       "<table class=\"simpletable\">\n",
       "<caption>OLS Regression Results</caption>\n",
       "<tr>\n",
       "  <th>Dep. Variable:</th>          <td>2006</td>       <th>  R-squared:         </th> <td>   0.236</td>\n",
       "</tr>\n",
       "<tr>\n",
       "  <th>Model:</th>                   <td>OLS</td>       <th>  Adj. R-squared:    </th> <td>   0.208</td>\n",
       "</tr>\n",
       "<tr>\n",
       "  <th>Method:</th>             <td>Least Squares</td>  <th>  F-statistic:       </th> <td>   8.439</td>\n",
       "</tr>\n",
       "<tr>\n",
       "  <th>Date:</th>             <td>Tue, 24 May 2016</td> <th>  Prob (F-statistic):</th> <td>5.94e-05</td>\n",
       "</tr>\n",
       "<tr>\n",
       "  <th>Time:</th>                 <td>09:22:30</td>     <th>  Log-Likelihood:    </th> <td> -184.00</td>\n",
       "</tr>\n",
       "<tr>\n",
       "  <th>No. Observations:</th>      <td>    86</td>      <th>  AIC:               </th> <td>   376.0</td>\n",
       "</tr>\n",
       "<tr>\n",
       "  <th>Df Residuals:</th>          <td>    82</td>      <th>  BIC:               </th> <td>   385.8</td>\n",
       "</tr>\n",
       "<tr>\n",
       "  <th>Df Model:</th>              <td>     3</td>      <th>                     </th>     <td> </td>   \n",
       "</tr>\n",
       "<tr>\n",
       "  <th>Covariance Type:</th>      <td>nonrobust</td>    <th>                     </th>     <td> </td>   \n",
       "</tr>\n",
       "</table>\n",
       "<table class=\"simpletable\">\n",
       "<tr>\n",
       "        <td></td>          <th>coef</th>     <th>std err</th>      <th>t</th>      <th>P>|t|</th> <th>[95.0% Conf. Int.]</th> \n",
       "</tr>\n",
       "<tr>\n",
       "  <th>const</th>        <td>   19.4910</td> <td>    1.221</td> <td>   15.968</td> <td> 0.000</td> <td>   17.063    21.919</td>\n",
       "</tr>\n",
       "<tr>\n",
       "  <th>men_ed_yrs</th>   <td>    0.5826</td> <td>    0.346</td> <td>    1.681</td> <td> 0.096</td> <td>   -0.107     1.272</td>\n",
       "</tr>\n",
       "<tr>\n",
       "  <th>women_ed_yrs</th> <td>    0.3567</td> <td>    0.292</td> <td>    1.221</td> <td> 0.226</td> <td>   -0.225     0.938</td>\n",
       "</tr>\n",
       "<tr>\n",
       "  <th>total_ed_yrs</th> <td>   -0.5925</td> <td>    0.511</td> <td>   -1.159</td> <td> 0.250</td> <td>   -1.609     0.424</td>\n",
       "</tr>\n",
       "</table>\n",
       "<table class=\"simpletable\">\n",
       "<tr>\n",
       "  <th>Omnibus:</th>       <td> 1.056</td> <th>  Durbin-Watson:     </th> <td>   1.885</td>\n",
       "</tr>\n",
       "<tr>\n",
       "  <th>Prob(Omnibus):</th> <td> 0.590</td> <th>  Jarque-Bera (JB):  </th> <td>   0.865</td>\n",
       "</tr>\n",
       "<tr>\n",
       "  <th>Skew:</th>          <td>-0.245</td> <th>  Prob(JB):          </th> <td>   0.649</td>\n",
       "</tr>\n",
       "<tr>\n",
       "  <th>Kurtosis:</th>      <td> 2.976</td> <th>  Cond. No.          </th> <td>    120.</td>\n",
       "</tr>\n",
       "</table>"
      ],
      "text/plain": [
       "<class 'statsmodels.iolib.summary.Summary'>\n",
       "\"\"\"\n",
       "                            OLS Regression Results                            \n",
       "==============================================================================\n",
       "Dep. Variable:                   2006   R-squared:                       0.236\n",
       "Model:                            OLS   Adj. R-squared:                  0.208\n",
       "Method:                 Least Squares   F-statistic:                     8.439\n",
       "Date:                Tue, 24 May 2016   Prob (F-statistic):           5.94e-05\n",
       "Time:                        09:22:30   Log-Likelihood:                -184.00\n",
       "No. Observations:                  86   AIC:                             376.0\n",
       "Df Residuals:                      82   BIC:                             385.8\n",
       "Df Model:                           3                                         \n",
       "Covariance Type:            nonrobust                                         \n",
       "================================================================================\n",
       "                   coef    std err          t      P>|t|      [95.0% Conf. Int.]\n",
       "--------------------------------------------------------------------------------\n",
       "const           19.4910      1.221     15.968      0.000        17.063    21.919\n",
       "men_ed_yrs       0.5826      0.346      1.681      0.096        -0.107     1.272\n",
       "women_ed_yrs     0.3567      0.292      1.221      0.226        -0.225     0.938\n",
       "total_ed_yrs    -0.5925      0.511     -1.159      0.250        -1.609     0.424\n",
       "==============================================================================\n",
       "Omnibus:                        1.056   Durbin-Watson:                   1.885\n",
       "Prob(Omnibus):                  0.590   Jarque-Bera (JB):                0.865\n",
       "Skew:                          -0.245   Prob(JB):                        0.649\n",
       "Kurtosis:                       2.976   Cond. No.                         120.\n",
       "==============================================================================\n",
       "\n",
       "Warnings:\n",
       "[1] Standard Errors assume that the covariance matrix of the errors is correctly specified.\n",
       "\"\"\""
      ]
     },
     "execution_count": 157,
     "metadata": {},
     "output_type": "execute_result"
    }
   ],
   "source": [
    "#adds the constant to x, and creates the OLS\n",
    "X = sm.add_constant(X)\n",
    "est = sm.OLS(y, X, missing=\"drop\").fit()\n",
    "est.summary()"
   ]
  },
  {
   "cell_type": "code",
   "execution_count": 139,
   "metadata": {
    "collapsed": false
   },
   "outputs": [],
   "source": [
    "#creates a dataframe with log values of GDP\n",
    "df_log = pd.DataFrame(X)"
   ]
  },
  {
   "cell_type": "code",
   "execution_count": 140,
   "metadata": {
    "collapsed": false
   },
   "outputs": [],
   "source": [
    "#combines the dataframes of x and y\n",
    "result = pd.concat([df_log, y], axis=1)"
   ]
  },
  {
   "cell_type": "code",
   "execution_count": null,
   "metadata": {
    "collapsed": false
   },
   "outputs": [],
   "source": []
  },
  {
   "cell_type": "code",
   "execution_count": 155,
   "metadata": {
    "collapsed": false
   },
   "outputs": [
    {
     "data": {
      "text/plain": [
       "array([[<matplotlib.axes._subplots.AxesSubplot object at 0x11b0eb690>,\n",
       "        <matplotlib.axes._subplots.AxesSubplot object at 0x11b13cfd0>,\n",
       "        <matplotlib.axes._subplots.AxesSubplot object at 0x11b1c5150>,\n",
       "        <matplotlib.axes._subplots.AxesSubplot object at 0x11b21add0>,\n",
       "        <matplotlib.axes._subplots.AxesSubplot object at 0x11b29df10>],\n",
       "       [<matplotlib.axes._subplots.AxesSubplot object at 0x11b24a350>,\n",
       "        <matplotlib.axes._subplots.AxesSubplot object at 0x11b4a6610>,\n",
       "        <matplotlib.axes._subplots.AxesSubplot object at 0x11b62a590>,\n",
       "        <matplotlib.axes._subplots.AxesSubplot object at 0x11b68fb50>,\n",
       "        <matplotlib.axes._subplots.AxesSubplot object at 0x11b712890>],\n",
       "       [<matplotlib.axes._subplots.AxesSubplot object at 0x11b77a310>,\n",
       "        <matplotlib.axes._subplots.AxesSubplot object at 0x11b7fc350>,\n",
       "        <matplotlib.axes._subplots.AxesSubplot object at 0x11b873f50>,\n",
       "        <matplotlib.axes._subplots.AxesSubplot object at 0x11b8e3bd0>,\n",
       "        <matplotlib.axes._subplots.AxesSubplot object at 0x11ba67b50>],\n",
       "       [<matplotlib.axes._subplots.AxesSubplot object at 0x11bacc7d0>,\n",
       "        <matplotlib.axes._subplots.AxesSubplot object at 0x11bd4fa10>,\n",
       "        <matplotlib.axes._subplots.AxesSubplot object at 0x11bafbc90>,\n",
       "        <matplotlib.axes._subplots.AxesSubplot object at 0x11be36fd0>,\n",
       "        <matplotlib.axes._subplots.AxesSubplot object at 0x11bebaf50>],\n",
       "       [<matplotlib.axes._subplots.AxesSubplot object at 0x11bf2b550>,\n",
       "        <matplotlib.axes._subplots.AxesSubplot object at 0x11bfae290>,\n",
       "        <matplotlib.axes._subplots.AxesSubplot object at 0x11bffccd0>,\n",
       "        <matplotlib.axes._subplots.AxesSubplot object at 0x11c18bb90>,\n",
       "        <matplotlib.axes._subplots.AxesSubplot object at 0x11c20f8d0>]], dtype=object)"
      ]
     },
     "execution_count": 155,
     "metadata": {},
     "output_type": "execute_result"
    },
    {
     "data": {
      "image/png": "[encoded data removed]",
      "text/plain": [
       "<matplotlib.figure.Figure at 0x11ae67210>"
      ]
     },
     "metadata": {},
     "output_type": "display_data"
    }
   ],
   "source": [
    "#creates a scatter matrix\n",
    "%matplotlib inline\n",
    "scatter_matrix(result, alpha=0.2, figsize=(10,10))"
   ]
  },
  {
   "cell_type": "markdown",
   "metadata": {},
   "source": [
    "There appears to be some relationship between GDP and education graphically. OLS confirms that there is a positive relationship between men ed and gdp and womens ed and gdp. However, it is finding a negative relationship betweetn total education and gdp. I suspect this is the result of the fact that total education is derived from men and women's education. \n",
    "\n",
    "Despite these relationships, and based on reviewing the confidence interviews, we cannot view these relationships as statisticallys significant. There is just two much noise.\n",
    "\n",
    "One major problem is that the absolute size of GDP is likely more strongly impacted by the actual size of the population, among many other issues. The comparison is a little wonky, since we are comparing avg educational age with abosolute GDP. It would make more sense to compare per capita GDP."
   ]
  },
  {
   "cell_type": "code",
   "execution_count": null,
   "metadata": {
    "collapsed": true
   },
   "outputs": [],
   "source": []
  }
 ],
 "metadata": {
  "kernelspec": {
   "display_name": "Python 2",
   "language": "python",
   "name": "python2"
  },
  "language_info": {
   "codemirror_mode": {
    "name": "ipython",
    "version": 2
   },
   "file_extension": ".py",
   "mimetype": "text/x-python",
   "name": "python",
   "nbconvert_exporter": "python",
   "pygments_lexer": "ipython2",
   "version": "2.7.10"
  }
 },
 "nbformat": 4,
 "nbformat_minor": 0
}
