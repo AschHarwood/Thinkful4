{
 "cells": [
  {
   "cell_type": "code",
   "execution_count": 1,
   "metadata": {
    "collapsed": true
   },
   "outputs": [],
   "source": [
    "import sqlite3 as lite\n",
    "import pandas as pd\n",
    "import numpy as np\n",
    "import statsmodels.api as sm\n",
    "from pandas.tools.plotting import scatter_matrix"
   ]
  },
  {
   "cell_type": "code",
   "execution_count": 2,
   "metadata": {
    "collapsed": true
   },
   "outputs": [],
   "source": [
    "con = lite.connect('social_stats.db')\n",
    "cur = con.cursor()"
   ]
  },
  {
   "cell_type": "code",
   "execution_count": 3,
   "metadata": {
    "collapsed": true
   },
   "outputs": [],
   "source": [
    "join_command = 'SELECT country, year, men_years, women_years, total_years, _1999, _2000, _2001, _2002, _2003, _2004, _2005, _2006, _2007, _2008, _2009, _2010 FROM education LEFT OUTER JOIN gdp ON education.country = gdp.country_name;'"
   ]
  },
  {
   "cell_type": "code",
   "execution_count": 4,
   "metadata": {
    "collapsed": true
   },
   "outputs": [],
   "source": [
    "with con:\n",
    "    cur.execute(join_command)\n",
    "    data = cur.fetchall()\n",
    "df_combined = pd.DataFrame(data)"
   ]
  },
  {
   "cell_type": "code",
   "execution_count": 92,
   "metadata": {
    "collapsed": true
   },
   "outputs": [],
   "source": [
    "df_combined_column_named = df_combined.rename(columns={0: 'country', 1: 'year', 2: 'men_ed_yrs', 3: 'women_ed_yrs', 4: 'total_ed_yrs', 5: '1999', 6: '2000', 7: '2001', 8: '2002', 9: '2003', 10: '2004', 11: '2005', 12: '2006', 13: '2007', 14: '2008', 15: '2009', 16: '2010'})"
   ]
  },
  {
   "cell_type": "code",
   "execution_count": null,
   "metadata": {
    "collapsed": true
   },
   "outputs": [],
   "source": []
  },
  {
   "cell_type": "code",
   "execution_count": 93,
   "metadata": {
    "collapsed": false
   },
   "outputs": [
    {
     "data": {
      "text/html": [
       "<div>\n",
       "<table border=\"1\" class=\"dataframe\">\n",
       "  <thead>\n",
       "    <tr style=\"text-align: right;\">\n",
       "      <th></th>\n",
       "      <th>country</th>\n",
       "      <th>year</th>\n",
       "      <th>men_ed_yrs</th>\n",
       "      <th>women_ed_yrs</th>\n",
       "      <th>total_ed_yrs</th>\n",
       "      <th>1999</th>\n",
       "      <th>2000</th>\n",
       "      <th>2001</th>\n",
       "      <th>2002</th>\n",
       "      <th>2003</th>\n",
       "      <th>2004</th>\n",
       "      <th>2005</th>\n",
       "      <th>2006</th>\n",
       "      <th>2007</th>\n",
       "      <th>2008</th>\n",
       "      <th>2009</th>\n",
       "      <th>2010</th>\n",
       "    </tr>\n",
       "  </thead>\n",
       "  <tbody>\n",
       "    <tr>\n",
       "      <th>0</th>\n",
       "      <td>Afghanistan</td>\n",
       "      <td>2004</td>\n",
       "      <td>11</td>\n",
       "      <td>5</td>\n",
       "      <td>8</td>\n",
       "      <td>NaN</td>\n",
       "      <td>NaN</td>\n",
       "      <td>2461666315</td>\n",
       "      <td>4128818042</td>\n",
       "      <td>4583648922</td>\n",
       "      <td>5285461999</td>\n",
       "      <td>6.275076e+09</td>\n",
       "      <td>7.057598e+09</td>\n",
       "      <td>9.843842e+09</td>\n",
       "      <td>1.019053e+10</td>\n",
       "      <td>1.248694e+10</td>\n",
       "      <td>1.593680e+10</td>\n",
       "    </tr>\n",
       "    <tr>\n",
       "      <th>1</th>\n",
       "      <td>Albania</td>\n",
       "      <td>2004</td>\n",
       "      <td>11</td>\n",
       "      <td>11</td>\n",
       "      <td>11</td>\n",
       "      <td>3414760915</td>\n",
       "      <td>3632043908</td>\n",
       "      <td>4060758804</td>\n",
       "      <td>4435078648</td>\n",
       "      <td>5746945913</td>\n",
       "      <td>7314865176</td>\n",
       "      <td>8.158549e+09</td>\n",
       "      <td>8.992642e+09</td>\n",
       "      <td>1.070101e+10</td>\n",
       "      <td>1.288135e+10</td>\n",
       "      <td>1.204421e+10</td>\n",
       "      <td>1.192695e+10</td>\n",
       "    </tr>\n",
       "    <tr>\n",
       "      <th>2</th>\n",
       "      <td>Algeria</td>\n",
       "      <td>2005</td>\n",
       "      <td>13</td>\n",
       "      <td>13</td>\n",
       "      <td>13</td>\n",
       "      <td>48640611686</td>\n",
       "      <td>54790060513</td>\n",
       "      <td>54744714110</td>\n",
       "      <td>56760288396</td>\n",
       "      <td>67863829705</td>\n",
       "      <td>85324998959</td>\n",
       "      <td>1.030000e+11</td>\n",
       "      <td>1.170000e+11</td>\n",
       "      <td>1.350000e+11</td>\n",
       "      <td>1.710000e+11</td>\n",
       "      <td>1.370000e+11</td>\n",
       "      <td>1.610000e+11</td>\n",
       "    </tr>\n",
       "    <tr>\n",
       "      <th>3</th>\n",
       "      <td>Andorra</td>\n",
       "      <td>2008</td>\n",
       "      <td>11</td>\n",
       "      <td>12</td>\n",
       "      <td>11</td>\n",
       "      <td>1239840270</td>\n",
       "      <td>1401694156</td>\n",
       "      <td>1484004617</td>\n",
       "      <td>1717563533</td>\n",
       "      <td>2373836214</td>\n",
       "      <td>2916913449</td>\n",
       "      <td>3.248135e+09</td>\n",
       "      <td>3.536452e+09</td>\n",
       "      <td>4.010785e+09</td>\n",
       "      <td>4.001349e+09</td>\n",
       "      <td>3.649863e+09</td>\n",
       "      <td>3.346317e+09</td>\n",
       "    </tr>\n",
       "    <tr>\n",
       "      <th>4</th>\n",
       "      <td>Anguilla</td>\n",
       "      <td>2008</td>\n",
       "      <td>11</td>\n",
       "      <td>11</td>\n",
       "      <td>11</td>\n",
       "      <td>NaN</td>\n",
       "      <td>NaN</td>\n",
       "      <td>NaN</td>\n",
       "      <td>NaN</td>\n",
       "      <td>NaN</td>\n",
       "      <td>NaN</td>\n",
       "      <td>NaN</td>\n",
       "      <td>NaN</td>\n",
       "      <td>NaN</td>\n",
       "      <td>NaN</td>\n",
       "      <td>NaN</td>\n",
       "      <td>NaN</td>\n",
       "    </tr>\n",
       "  </tbody>\n",
       "</table>\n",
       "</div>"
      ],
      "text/plain": [
       "       country  year  men_ed_yrs  women_ed_yrs  total_ed_yrs         1999  \\\n",
       "0  Afghanistan  2004          11             5             8          NaN   \n",
       "1      Albania  2004          11            11            11   3414760915   \n",
       "2      Algeria  2005          13            13            13  48640611686   \n",
       "3      Andorra  2008          11            12            11   1239840270   \n",
       "4     Anguilla  2008          11            11            11          NaN   \n",
       "\n",
       "          2000         2001         2002         2003         2004  \\\n",
       "0          NaN   2461666315   4128818042   4583648922   5285461999   \n",
       "1   3632043908   4060758804   4435078648   5746945913   7314865176   \n",
       "2  54790060513  54744714110  56760288396  67863829705  85324998959   \n",
       "3   1401694156   1484004617   1717563533   2373836214   2916913449   \n",
       "4          NaN          NaN          NaN          NaN          NaN   \n",
       "\n",
       "           2005          2006          2007          2008          2009  \\\n",
       "0  6.275076e+09  7.057598e+09  9.843842e+09  1.019053e+10  1.248694e+10   \n",
       "1  8.158549e+09  8.992642e+09  1.070101e+10  1.288135e+10  1.204421e+10   \n",
       "2  1.030000e+11  1.170000e+11  1.350000e+11  1.710000e+11  1.370000e+11   \n",
       "3  3.248135e+09  3.536452e+09  4.010785e+09  4.001349e+09  3.649863e+09   \n",
       "4           NaN           NaN           NaN           NaN           NaN   \n",
       "\n",
       "           2010  \n",
       "0  1.593680e+10  \n",
       "1  1.192695e+10  \n",
       "2  1.610000e+11  \n",
       "3  3.346317e+09  \n",
       "4           NaN  "
      ]
     },
     "execution_count": 93,
     "metadata": {},
     "output_type": "execute_result"
    }
   ],
   "source": [
    "df_combined_column_named.head()"
   ]
  },
  {
   "cell_type": "code",
   "execution_count": 123,
   "metadata": {
    "collapsed": false
   },
   "outputs": [],
   "source": [
    "data = [] #creates an empty list\n",
    "for idx, row in df_combined_column_named.iterrows(): #iterates through values in each row\n",
    "    data.append((row['country'], row['year'], row[row['year']], row['men_ed_yrs'], row['women_ed_yrs'], row['total_ed_yrs'])) #grabs the country name, the year from column 'year, and then the with value from year \n",
    "result = pd.DataFrame(data, columns=['country', 'year','value', 'men_ed_yrs', 'women_ed_yrs','total_ed_yrs']) #puts it in a dataframe\n",
    "#print(result)"
   ]
  },
  {
   "cell_type": "code",
   "execution_count": 118,
   "metadata": {
    "collapsed": false
   },
   "outputs": [
    {
     "data": {
      "text/html": [
       "<div>\n",
       "<table border=\"1\" class=\"dataframe\">\n",
       "  <thead>\n",
       "    <tr style=\"text-align: right;\">\n",
       "      <th></th>\n",
       "      <th>country</th>\n",
       "      <th>year</th>\n",
       "      <th>value</th>\n",
       "      <th>men_ed_yrs</th>\n",
       "      <th>women_ed_yrs</th>\n",
       "      <th>total_ed_yrs</th>\n",
       "    </tr>\n",
       "  </thead>\n",
       "  <tbody>\n",
       "    <tr>\n",
       "      <th>0</th>\n",
       "      <td>Afghanistan</td>\n",
       "      <td>2004</td>\n",
       "      <td>5.285462e+09</td>\n",
       "      <td>11</td>\n",
       "      <td>5</td>\n",
       "      <td>8</td>\n",
       "    </tr>\n",
       "    <tr>\n",
       "      <th>1</th>\n",
       "      <td>Albania</td>\n",
       "      <td>2004</td>\n",
       "      <td>7.314865e+09</td>\n",
       "      <td>11</td>\n",
       "      <td>11</td>\n",
       "      <td>11</td>\n",
       "    </tr>\n",
       "    <tr>\n",
       "      <th>2</th>\n",
       "      <td>Algeria</td>\n",
       "      <td>2005</td>\n",
       "      <td>1.030000e+11</td>\n",
       "      <td>13</td>\n",
       "      <td>13</td>\n",
       "      <td>13</td>\n",
       "    </tr>\n",
       "    <tr>\n",
       "      <th>3</th>\n",
       "      <td>Andorra</td>\n",
       "      <td>2008</td>\n",
       "      <td>4.001349e+09</td>\n",
       "      <td>11</td>\n",
       "      <td>12</td>\n",
       "      <td>11</td>\n",
       "    </tr>\n",
       "    <tr>\n",
       "      <th>4</th>\n",
       "      <td>Anguilla</td>\n",
       "      <td>2008</td>\n",
       "      <td>NaN</td>\n",
       "      <td>11</td>\n",
       "      <td>11</td>\n",
       "      <td>11</td>\n",
       "    </tr>\n",
       "  </tbody>\n",
       "</table>\n",
       "</div>"
      ],
      "text/plain": [
       "       country  year         value  men_ed_yrs  women_ed_yrs  total_ed_yrs\n",
       "0  Afghanistan  2004  5.285462e+09          11             5             8\n",
       "1      Albania  2004  7.314865e+09          11            11            11\n",
       "2      Algeria  2005  1.030000e+11          13            13            13\n",
       "3      Andorra  2008  4.001349e+09          11            12            11\n",
       "4     Anguilla  2008           NaN          11            11            11"
      ]
     },
     "execution_count": 118,
     "metadata": {},
     "output_type": "execute_result"
    }
   ],
   "source": [
    "result.set_index(result['country'])\n",
    "log_gdp = np.log(result['value'])\n",
    "result.head()"
   ]
  },
  {
   "cell_type": "code",
   "execution_count": 120,
   "metadata": {
    "collapsed": false
   },
   "outputs": [],
   "source": [
    "X = result[['men_ed_yrs', 'women_ed_yrs', 'total_ed_yrs']]\n",
    "y = log_gdp"
   ]
  },
  {
   "cell_type": "code",
   "execution_count": 122,
   "metadata": {
    "collapsed": false
   },
   "outputs": [
    {
     "data": {
      "text/html": [
       "<table class=\"simpletable\">\n",
       "<caption>OLS Regression Results</caption>\n",
       "<tr>\n",
       "  <th>Dep. Variable:</th>          <td>value</td>      <th>  R-squared:         </th> <td>   0.256</td>\n",
       "</tr>\n",
       "<tr>\n",
       "  <th>Model:</th>                   <td>OLS</td>       <th>  Adj. R-squared:    </th> <td>   0.229</td>\n",
       "</tr>\n",
       "<tr>\n",
       "  <th>Method:</th>             <td>Least Squares</td>  <th>  F-statistic:       </th> <td>   9.315</td>\n",
       "</tr>\n",
       "<tr>\n",
       "  <th>Date:</th>             <td>Tue, 24 May 2016</td> <th>  Prob (F-statistic):</th> <td>2.32e-05</td>\n",
       "</tr>\n",
       "<tr>\n",
       "  <th>Time:</th>                 <td>16:49:08</td>     <th>  Log-Likelihood:    </th> <td> -183.57</td>\n",
       "</tr>\n",
       "<tr>\n",
       "  <th>No. Observations:</th>      <td>    85</td>      <th>  AIC:               </th> <td>   375.1</td>\n",
       "</tr>\n",
       "<tr>\n",
       "  <th>Df Residuals:</th>          <td>    81</td>      <th>  BIC:               </th> <td>   384.9</td>\n",
       "</tr>\n",
       "<tr>\n",
       "  <th>Df Model:</th>              <td>     3</td>      <th>                     </th>     <td> </td>   \n",
       "</tr>\n",
       "<tr>\n",
       "  <th>Covariance Type:</th>      <td>nonrobust</td>    <th>                     </th>     <td> </td>   \n",
       "</tr>\n",
       "</table>\n",
       "<table class=\"simpletable\">\n",
       "<tr>\n",
       "        <td></td>          <th>coef</th>     <th>std err</th>      <th>t</th>      <th>P>|t|</th> <th>[95.0% Conf. Int.]</th> \n",
       "</tr>\n",
       "<tr>\n",
       "  <th>const</th>        <td>   19.3760</td> <td>    1.251</td> <td>   15.494</td> <td> 0.000</td> <td>   16.888    21.864</td>\n",
       "</tr>\n",
       "<tr>\n",
       "  <th>men_ed_yrs</th>   <td>    0.4815</td> <td>    0.359</td> <td>    1.343</td> <td> 0.183</td> <td>   -0.232     1.195</td>\n",
       "</tr>\n",
       "<tr>\n",
       "  <th>women_ed_yrs</th> <td>    0.3747</td> <td>    0.298</td> <td>    1.256</td> <td> 0.213</td> <td>   -0.219     0.968</td>\n",
       "</tr>\n",
       "<tr>\n",
       "  <th>total_ed_yrs</th> <td>   -0.4931</td> <td>    0.525</td> <td>   -0.939</td> <td> 0.351</td> <td>   -1.538     0.552</td>\n",
       "</tr>\n",
       "</table>\n",
       "<table class=\"simpletable\">\n",
       "<tr>\n",
       "  <th>Omnibus:</th>       <td> 2.319</td> <th>  Durbin-Watson:     </th> <td>   1.825</td>\n",
       "</tr>\n",
       "<tr>\n",
       "  <th>Prob(Omnibus):</th> <td> 0.314</td> <th>  Jarque-Bera (JB):  </th> <td>   1.925</td>\n",
       "</tr>\n",
       "<tr>\n",
       "  <th>Skew:</th>          <td>-0.367</td> <th>  Prob(JB):          </th> <td>   0.382</td>\n",
       "</tr>\n",
       "<tr>\n",
       "  <th>Kurtosis:</th>      <td> 3.064</td> <th>  Cond. No.          </th> <td>    120.</td>\n",
       "</tr>\n",
       "</table>"
      ],
      "text/plain": [
       "<class 'statsmodels.iolib.summary.Summary'>\n",
       "\"\"\"\n",
       "                            OLS Regression Results                            \n",
       "==============================================================================\n",
       "Dep. Variable:                  value   R-squared:                       0.256\n",
       "Model:                            OLS   Adj. R-squared:                  0.229\n",
       "Method:                 Least Squares   F-statistic:                     9.315\n",
       "Date:                Tue, 24 May 2016   Prob (F-statistic):           2.32e-05\n",
       "Time:                        16:49:08   Log-Likelihood:                -183.57\n",
       "No. Observations:                  85   AIC:                             375.1\n",
       "Df Residuals:                      81   BIC:                             384.9\n",
       "Df Model:                           3                                         \n",
       "Covariance Type:            nonrobust                                         \n",
       "================================================================================\n",
       "                   coef    std err          t      P>|t|      [95.0% Conf. Int.]\n",
       "--------------------------------------------------------------------------------\n",
       "const           19.3760      1.251     15.494      0.000        16.888    21.864\n",
       "men_ed_yrs       0.4815      0.359      1.343      0.183        -0.232     1.195\n",
       "women_ed_yrs     0.3747      0.298      1.256      0.213        -0.219     0.968\n",
       "total_ed_yrs    -0.4931      0.525     -0.939      0.351        -1.538     0.552\n",
       "==============================================================================\n",
       "Omnibus:                        2.319   Durbin-Watson:                   1.825\n",
       "Prob(Omnibus):                  0.314   Jarque-Bera (JB):                1.925\n",
       "Skew:                          -0.367   Prob(JB):                        0.382\n",
       "Kurtosis:                       3.064   Cond. No.                         120.\n",
       "==============================================================================\n",
       "\n",
       "Warnings:\n",
       "[1] Standard Errors assume that the covariance matrix of the errors is correctly specified.\n",
       "\"\"\""
      ]
     },
     "execution_count": 122,
     "metadata": {},
     "output_type": "execute_result"
    }
   ],
   "source": [
    "X = sm.add_constant(X)\n",
    "est = sm.OLS(y, X, missing=\"drop\").fit()\n",
    "est.summary()"
   ]
  },
  {
   "cell_type": "code",
   "execution_count": 126,
   "metadata": {
    "collapsed": false
   },
   "outputs": [
    {
     "data": {
      "text/plain": [
       "array([[<matplotlib.axes._subplots.AxesSubplot object at 0x10a699890>,\n",
       "        <matplotlib.axes._subplots.AxesSubplot object at 0x10aefec10>,\n",
       "        <matplotlib.axes._subplots.AxesSubplot object at 0x10af7ad50>,\n",
       "        <matplotlib.axes._subplots.AxesSubplot object at 0x10afdfb50>],\n",
       "       [<matplotlib.axes._subplots.AxesSubplot object at 0x10b062d90>,\n",
       "        <matplotlib.axes._subplots.AxesSubplot object at 0x10b00fa90>,\n",
       "        <matplotlib.axes._subplots.AxesSubplot object at 0x10b271450>,\n",
       "        <matplotlib.axes._subplots.AxesSubplot object at 0x10b2f53d0>],\n",
       "       [<matplotlib.axes._subplots.AxesSubplot object at 0x10b4588d0>,\n",
       "        <matplotlib.axes._subplots.AxesSubplot object at 0x10b4dd610>,\n",
       "        <matplotlib.axes._subplots.AxesSubplot object at 0x10b544090>,\n",
       "        <matplotlib.axes._subplots.AxesSubplot object at 0x10b5c60d0>],\n",
       "       [<matplotlib.axes._subplots.AxesSubplot object at 0x10b73dcd0>,\n",
       "        <matplotlib.axes._subplots.AxesSubplot object at 0x108ec8190>,\n",
       "        <matplotlib.axes._subplots.AxesSubplot object at 0x10b7dd4d0>,\n",
       "        <matplotlib.axes._subplots.AxesSubplot object at 0x10b82aa50>]], dtype=object)"
      ]
     },
     "execution_count": 126,
     "metadata": {},
     "output_type": "execute_result"
    },
    {
     "data": {
      "image/png": "[encoded data removed]",
      "text/plain": [
       "<matplotlib.figure.Figure at 0x10a9b58d0>"
      ]
     },
     "metadata": {},
     "output_type": "display_data"
    }
   ],
   "source": [
    "%matplotlib inline\n",
    "scatter_matrix(result, alpha=0.2, figsize=(10,10))"
   ]
  },
  {
   "cell_type": "code",
   "execution_count": null,
   "metadata": {
    "collapsed": false
   },
   "outputs": [],
   "source": []
  },
  {
   "cell_type": "code",
   "execution_count": null,
   "metadata": {
    "collapsed": false
   },
   "outputs": [],
   "source": []
  },
  {
   "cell_type": "code",
   "execution_count": null,
   "metadata": {
    "collapsed": true
   },
   "outputs": [],
   "source": []
  }
 ],
 "metadata": {
  "kernelspec": {
   "display_name": "Python 2",
   "language": "python",
   "name": "python2"
  },
  "language_info": {
   "codemirror_mode": {
    "name": "ipython",
    "version": 2
   },
   "file_extension": ".py",
   "mimetype": "text/x-python",
   "name": "python",
   "nbconvert_exporter": "python",
   "pygments_lexer": "ipython2",
   "version": "2.7.10"
  }
 },
 "nbformat": 4,
 "nbformat_minor": 0
}
