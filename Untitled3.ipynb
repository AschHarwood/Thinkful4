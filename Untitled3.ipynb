{
 "cells": [
  {
   "cell_type": "code",
   "execution_count": null,
   "metadata": {
    "collapsed": false
   },
   "outputs": [
    {
     "name": "stdout",
     "output_type": "stream",
     "text": [
      "(3178, u'Riverside Dr & W 78 St', 40.78414472, -73.98362492)\n",
      "The most active station is station id 3178 at Riverside Dr & W 78 St latitude: 40.78414472 longitude: -73.98362492 \n",
      "With 38 bicycles coming and going in the hour between 2016-05-14T12:22:30 and 2016-05-14T13:37:29\n"
     ]
    }
   ],
   "source": [
    "# %load checksql.py\n",
    "import requests\n",
    "from pandas.io.json import json_normalize\n",
    "import pandas as pd \n",
    "import collections\n",
    "import datetime\n",
    "\n",
    "#r = requests.get('http://www.citibikenyc.com/stations/json')\n",
    "\n",
    "#df = json_normalize(r.json()['stationBeanList'])\n",
    "\n",
    "import sqlite3 as lite\n",
    "\n",
    "con = lite.connect('citi_bike.db')\n",
    "cur = con.cursor()\n",
    "\n",
    "citibikesdf = pd.read_sql('SELECT * FROM available_bikes ORDER BY execution_time', con, index_col='execution_time')\n",
    "#print citibikesdf\n",
    "\n",
    "hour_change = collections.defaultdict(int)\n",
    "for col in citibikesdf.columns:\n",
    "    station_vals = citibikesdf[col].tolist()\n",
    "    station_id = col[1:] #trim the \"_\"\n",
    "    station_change = 0\n",
    "    for k,v in enumerate(station_vals):\n",
    "        if k < len(station_vals) - 1:\n",
    "            station_change += abs(station_vals[k] - station_vals[k+1])\n",
    "    hour_change[int(station_id)] = station_change #convert the station id back to integer\n",
    "\n",
    "def keywiththemaxval(d):\n",
    "\treturn max(d, key=lambda k: d[k])\n",
    "\n",
    "max_station = keywiththemaxval(hour_change)\n",
    "#print max_station\n",
    "\n",
    "cur.execute(\"SELECT id, stationname, latitude, longitude FROM citibike_reference WHERE id = ?\", (max_station,))\n",
    "data = cur.fetchone()\n",
    "print data\n",
    "\n",
    "print(\"The most active station is station id %s at %s latitude: %s longitude: %s \" % data)\n",
    "print(\"With %d bicycles coming and going in the hour between %s and %s\" % (\n",
    "    hour_change[max_station],\n",
    "    datetime.datetime.fromtimestamp(int(citibikesdf.index[0])).strftime('%Y-%m-%dT%H:%M:%S'),\n",
    "    datetime.datetime.fromtimestamp(int(citibikesdf.index[-1])).strftime('%Y-%m-%dT%H:%M:%S'),\n",
    "))\n",
    "#print hour_change\n",
    "\n",
    "import matplotlib.pyplot as plt \n",
    "\n",
    "plt.bar(hour_change.keys(), hour_change.values())\n",
    "plt.show()"
   ]
  },
  {
   "cell_type": "code",
   "execution_count": null,
   "metadata": {
    "collapsed": true
   },
   "outputs": [],
   "source": []
  }
 ],
 "metadata": {
  "kernelspec": {
   "display_name": "Python 2",
   "language": "python",
   "name": "python2"
  },
  "language_info": {
   "codemirror_mode": {
    "name": "ipython",
    "version": 2
   },
   "file_extension": ".py",
   "mimetype": "text/x-python",
   "name": "python",
   "nbconvert_exporter": "python",
   "pygments_lexer": "ipython2",
   "version": "2.7.11"
  }
 },
 "nbformat": 4,
 "nbformat_minor": 0
}
