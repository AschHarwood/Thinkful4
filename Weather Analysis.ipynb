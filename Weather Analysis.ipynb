{
 "cells": [
  {
   "cell_type": "code",
   "execution_count": 41,
   "metadata": {
    "collapsed": false
   },
   "outputs": [
    {
     "name": "stdout",
     "output_type": "stream",
     "text": [
      "    day_of_reading  Atlanta  Austin  Boston  Chicago  Cleveland\n",
      "0       1460819760    71.42   73.21   51.63    69.38      62.78\n",
      "1       1460906160    73.89   76.59   52.75    72.16      57.79\n",
      "2       1460992560    80.10   72.97   65.21    73.73      67.39\n",
      "3       1461078960    81.42   79.44   52.69    58.52      66.11\n",
      "4       1461165360    80.61   79.37   51.48    67.71      63.35\n",
      "5       1461251760    77.89   81.41   74.79    67.21      64.79\n",
      "6       1461338160    72.44   82.35   76.51    56.59      62.91\n",
      "7       1461424560    74.92   81.70   64.29    55.05      49.31\n",
      "8       1461510960    78.66   77.53   50.33    74.52      55.24\n",
      "9       1461597360    79.00   87.52   55.87    81.80      69.06\n",
      "10      1461683760    81.98   84.84   53.80    72.89      64.50\n",
      "11      1461770160    82.32   88.56   57.65    49.25      52.43\n",
      "12      1461856560    83.79   86.05   51.62    49.06      50.15\n",
      "13      1461942960    86.02   83.62   48.44    47.62      48.53\n",
      "14      1462029360    85.27   83.69   53.77    48.56      52.65\n",
      "15      1462115760    79.87   75.79   52.18    48.42      56.52\n",
      "16      1462202160    81.69   69.50   50.26    53.27      50.77\n",
      "17      1462288560    75.15   75.32   48.62    64.35      54.64\n",
      "18      1462374960    68.96   83.55   47.94    56.11      61.90\n",
      "19      1462461360    64.39   85.71   46.24    54.30      56.29\n",
      "20      1462547760    68.53   83.34   52.05    77.96      62.60\n",
      "21      1462634160    79.43   83.24   50.32    66.63      68.75\n",
      "22      1462720560    85.23   75.57   58.31    64.56      61.44\n",
      "23      1462806960    80.74   85.79   62.57    57.02      57.74\n",
      "24      1462893360    81.82   90.40   66.63    63.08      63.97\n",
      "25      1462979760    85.13   85.07   66.07    63.92      70.82\n",
      "26      1463066160    85.62   83.20   67.31    66.36      75.01\n",
      "27      1463152560    78.16   87.03   70.52    66.05      66.42\n",
      "28      1463238960    79.79   80.31   73.85    48.43      57.31\n",
      "29      1463325360    71.00   72.92   59.40    56.27      49.17\n"
     ]
    },
    {
     "data": {
      "text/plain": [
       "day_of_reading    2505600.00\n",
       "Atlanta                21.63\n",
       "Austin                 20.90\n",
       "Boston                 30.27\n",
       "Chicago                34.18\n",
       "Cleveland              26.48\n",
       "dtype: float64"
      ]
     },
     "execution_count": 41,
     "metadata": {},
     "output_type": "execute_result"
    }
   ],
   "source": [
    "# %load readweather.py\n",
    "import sqlite3 as lite\n",
    "import pandas as pd \n",
    "import collections\n",
    "import matplotlib.pyplot as plt  \n",
    "\n",
    "con = lite.connect('weather3.db')\n",
    "df = pd.read_sql('SELECT * FROM daily_temp', con)\n",
    "\n",
    "print df\n",
    "\n",
    "city_temp_range = df.max() - df.min()\n",
    "city_temp_range"
   ]
  },
  {
   "cell_type": "code",
   "execution_count": 9,
   "metadata": {
    "collapsed": false
   },
   "outputs": [
    {
     "data": {
      "text/plain": [
       "78.508"
      ]
     },
     "execution_count": 9,
     "metadata": {},
     "output_type": "execute_result"
    }
   ],
   "source": [
    "df['Atlanta'].mean()"
   ]
  },
  {
   "cell_type": "code",
   "execution_count": 10,
   "metadata": {
    "collapsed": false
   },
   "outputs": [
    {
     "data": {
      "text/html": [
       "<div>\n",
       "<table border=\"1\" class=\"dataframe\">\n",
       "  <thead>\n",
       "    <tr style=\"text-align: right;\">\n",
       "      <th></th>\n",
       "      <th>day_of_reading</th>\n",
       "      <th>Atlanta</th>\n",
       "      <th>Austin</th>\n",
       "      <th>Boston</th>\n",
       "      <th>Chicago</th>\n",
       "      <th>Cleveland</th>\n",
       "    </tr>\n",
       "  </thead>\n",
       "  <tbody>\n",
       "    <tr>\n",
       "      <th>count</th>\n",
       "      <td>3.000000e+01</td>\n",
       "      <td>30.000000</td>\n",
       "      <td>30.000000</td>\n",
       "      <td>30.000000</td>\n",
       "      <td>30.000000</td>\n",
       "      <td>30.000000</td>\n",
       "    </tr>\n",
       "    <tr>\n",
       "      <th>mean</th>\n",
       "      <td>1.462073e+09</td>\n",
       "      <td>78.508000</td>\n",
       "      <td>81.186333</td>\n",
       "      <td>57.770000</td>\n",
       "      <td>61.692667</td>\n",
       "      <td>60.011333</td>\n",
       "    </tr>\n",
       "    <tr>\n",
       "      <th>std</th>\n",
       "      <td>7.606145e+05</td>\n",
       "      <td>5.638023</td>\n",
       "      <td>5.292642</td>\n",
       "      <td>8.822567</td>\n",
       "      <td>9.740732</td>\n",
       "      <td>7.153854</td>\n",
       "    </tr>\n",
       "    <tr>\n",
       "      <th>min</th>\n",
       "      <td>1.460820e+09</td>\n",
       "      <td>64.390000</td>\n",
       "      <td>69.500000</td>\n",
       "      <td>46.240000</td>\n",
       "      <td>47.620000</td>\n",
       "      <td>48.530000</td>\n",
       "    </tr>\n",
       "    <tr>\n",
       "      <th>25%</th>\n",
       "      <td>1.461446e+09</td>\n",
       "      <td>74.977500</td>\n",
       "      <td>76.825000</td>\n",
       "      <td>51.515000</td>\n",
       "      <td>54.487500</td>\n",
       "      <td>54.790000</td>\n",
       "    </tr>\n",
       "    <tr>\n",
       "      <th>50%</th>\n",
       "      <td>1.462073e+09</td>\n",
       "      <td>79.830000</td>\n",
       "      <td>82.775000</td>\n",
       "      <td>53.785000</td>\n",
       "      <td>63.500000</td>\n",
       "      <td>61.670000</td>\n",
       "    </tr>\n",
       "    <tr>\n",
       "      <th>75%</th>\n",
       "      <td>1.462699e+09</td>\n",
       "      <td>81.940000</td>\n",
       "      <td>85.012500</td>\n",
       "      <td>64.980000</td>\n",
       "      <td>67.585000</td>\n",
       "      <td>64.717500</td>\n",
       "    </tr>\n",
       "    <tr>\n",
       "      <th>max</th>\n",
       "      <td>1.463325e+09</td>\n",
       "      <td>86.020000</td>\n",
       "      <td>90.400000</td>\n",
       "      <td>76.510000</td>\n",
       "      <td>81.800000</td>\n",
       "      <td>75.010000</td>\n",
       "    </tr>\n",
       "  </tbody>\n",
       "</table>\n",
       "</div>"
      ],
      "text/plain": [
       "       day_of_reading    Atlanta     Austin     Boston    Chicago  Cleveland\n",
       "count    3.000000e+01  30.000000  30.000000  30.000000  30.000000  30.000000\n",
       "mean     1.462073e+09  78.508000  81.186333  57.770000  61.692667  60.011333\n",
       "std      7.606145e+05   5.638023   5.292642   8.822567   9.740732   7.153854\n",
       "min      1.460820e+09  64.390000  69.500000  46.240000  47.620000  48.530000\n",
       "25%      1.461446e+09  74.977500  76.825000  51.515000  54.487500  54.790000\n",
       "50%      1.462073e+09  79.830000  82.775000  53.785000  63.500000  61.670000\n",
       "75%      1.462699e+09  81.940000  85.012500  64.980000  67.585000  64.717500\n",
       "max      1.463325e+09  86.020000  90.400000  76.510000  81.800000  75.010000"
      ]
     },
     "execution_count": 10,
     "metadata": {},
     "output_type": "execute_result"
    }
   ],
   "source": [
    "df.describe()"
   ]
  },
  {
   "cell_type": "code",
   "execution_count": 17,
   "metadata": {
    "collapsed": false
   },
   "outputs": [
    {
     "ename": "SyntaxError",
     "evalue": "EOL while scanning string literal (<ipython-input-17-c866c7a120ec>, line 1)",
     "output_type": "error",
     "traceback": [
      "\u001b[0;36m  File \u001b[0;32m\"<ipython-input-17-c866c7a120ec>\"\u001b[0;36m, line \u001b[0;32m1\u001b[0m\n\u001b[0;31m    df[(['Atlanta'],['Austin])].mean()\u001b[0m\n\u001b[0m                                     ^\u001b[0m\n\u001b[0;31mSyntaxError\u001b[0m\u001b[0;31m:\u001b[0m EOL while scanning string literal\n"
     ]
    }
   ],
   "source": [
    "df[(['Atlanta'],['Austin])].mean()"
   ]
  },
  {
   "cell_type": "code",
   "execution_count": 38,
   "metadata": {
    "collapsed": false
   },
   "outputs": [
    {
     "data": {
      "image/png": "[encoded data removed]",
      "text/plain": [
       "<matplotlib.figure.Figure at 0x119d23550>"
      ]
     },
     "metadata": {},
     "output_type": "display_data"
    },
    {
     "data": {
      "image/png": "[encoded data removed]",
      "text/plain": [
       "<matplotlib.figure.Figure at 0x119efae50>"
      ]
     },
     "metadata": {},
     "output_type": "display_data"
    }
   ],
   "source": [
    "plt.figure()\n",
    "plt.plot(df['Atlanta'])\n",
    "plt.show()\n",
    "plt.plot(df['Austin'])\n",
    "plt.plot(df['Boston'])\n",
    "plt.plot(df['Chicago'])\n",
    "plt.plot(df['Cleveland'])\n",
    "plt.legend()\n",
    "plt.show()\n",
    "%matplotlib inline"
   ]
  },
  {
   "cell_type": "code",
   "execution_count": 46,
   "metadata": {
    "collapsed": false
   },
   "outputs": [
    {
     "name": "stdout",
     "output_type": "stream",
     "text": [
      "86400\n",
      "172800\n",
      "259200\n",
      "345600\n",
      "432000\n",
      "518400\n",
      "604800\n",
      "691200\n",
      "777600\n",
      "864000\n",
      "950400\n",
      "1036800\n",
      "1123200\n",
      "1209600\n",
      "1296000\n",
      "1382400\n",
      "1468800\n",
      "1555200\n",
      "1641600\n",
      "1728000\n",
      "1814400\n",
      "1900800\n",
      "1987200\n",
      "2073600\n",
      "2160000\n",
      "2246400\n",
      "2332800\n",
      "2419200\n",
      "2505600\n",
      "2.47\n",
      "8.68\n",
      "10.0\n",
      "10.81\n",
      "13.53\n",
      "18.98\n",
      "21.46\n",
      "25.2\n",
      "25.54\n",
      "28.52\n",
      "28.86\n",
      "30.33\n",
      "32.56\n",
      "33.31\n",
      "38.71\n",
      "40.53\n",
      "47.07\n",
      "53.26\n",
      "57.83\n",
      "61.97\n",
      "72.87\n",
      "78.67\n",
      "83.16\n",
      "84.24\n",
      "87.55\n",
      "88.04\n",
      "95.5\n",
      "97.13\n",
      "105.92\n",
      "3.38\n",
      "7.0\n",
      "13.47\n",
      "13.54\n",
      "15.58\n",
      "16.52\n",
      "17.17\n",
      "21.34\n",
      "31.33\n",
      "34.01\n",
      "37.73\n",
      "40.24\n",
      "42.67\n",
      "42.74\n",
      "50.64\n",
      "56.93\n",
      "62.75\n",
      "70.98\n",
      "73.14\n",
      "75.51\n",
      "75.61\n",
      "83.28\n",
      "93.5\n",
      "98.11\n",
      "103.44\n",
      "105.31\n",
      "109.14\n",
      "115.86\n",
      "123.25\n",
      "1.12\n",
      "13.58\n",
      "26.1\n",
      "27.31\n",
      "50.62\n",
      "52.34\n",
      "64.56\n",
      "78.52\n",
      "84.06\n",
      "86.13\n",
      "89.98\n",
      "96.01\n",
      "99.19\n",
      "104.52\n",
      "106.11\n",
      "108.03\n",
      "109.67\n",
      "110.35\n",
      "112.05\n",
      "117.86\n",
      "119.59\n",
      "127.58\n",
      "131.84\n",
      "135.9\n",
      "136.46\n",
      "137.7\n",
      "140.91\n",
      "144.24\n",
      "158.69\n",
      "2.78\n",
      "4.35\n",
      "19.56\n",
      "28.75\n",
      "29.25\n",
      "39.87\n",
      "41.41\n",
      "60.88\n",
      "68.16\n",
      "77.07\n",
      "100.71\n",
      "100.9\n",
      "102.34\n",
      "103.28\n",
      "103.42\n",
      "108.27\n",
      "119.35\n",
      "127.59\n",
      "129.4\n",
      "153.06\n",
      "164.39\n",
      "166.46\n",
      "174.0\n",
      "180.06\n",
      "180.9\n",
      "183.34\n",
      "183.65\n",
      "201.27\n",
      "209.11\n",
      "4.99\n",
      "14.59\n",
      "15.87\n",
      "18.63\n",
      "20.07\n",
      "21.95\n",
      "35.55\n",
      "41.48\n",
      "55.3\n",
      "59.86\n",
      "71.93\n",
      "74.21\n",
      "75.83\n",
      "79.95\n",
      "83.82\n",
      "89.57\n",
      "93.44\n",
      "100.7\n",
      "106.31\n",
      "112.62\n",
      "118.77\n",
      "126.08\n",
      "129.78\n",
      "136.01\n",
      "142.86\n",
      "147.05\n",
      "155.64\n",
      "164.75\n",
      "172.89\n"
     ]
    }
   ],
   "source": [
    "temp_change = collections.defaultdict(int)\n",
    "for col in df.columns:\n",
    "    city_temp_vals = df[col].tolist()\n",
    "    city_temp_change = 0\n",
    "    for k,v in enumerate(city_temp_vals):\n",
    "        if k < len(city_temp_vals) - 1:\n",
    "            city_temp_change += abs(city_temp_vals[k] - city_temp_vals[k+1])\n",
    "            print city_temp_change"
   ]
  },
  {
   "cell_type": "code",
   "execution_count": null,
   "metadata": {
    "collapsed": true
   },
   "outputs": [],
   "source": []
  }
 ],
 "metadata": {
  "kernelspec": {
   "display_name": "Python 2",
   "language": "python",
   "name": "python2"
  },
  "language_info": {
   "codemirror_mode": {
    "name": "ipython",
    "version": 2
   },
   "file_extension": ".py",
   "mimetype": "text/x-python",
   "name": "python",
   "nbconvert_exporter": "python",
   "pygments_lexer": "ipython2",
   "version": "2.7.11"
  }
 },
 "nbformat": 4,
 "nbformat_minor": 0
}
