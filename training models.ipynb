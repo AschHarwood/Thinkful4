{
 "cells": [
  {
   "cell_type": "code",
<<<<<<< HEAD
   "execution_count": 1,
=======
   "execution_count": 15,
>>>>>>> origin/master
   "metadata": {
    "collapsed": false
   },
   "outputs": [],
   "source": [
    "import numpy as np\n",
    "import statsmodels.formula.api as smf\n",
    "import pandas as pd\n",
    "import matplotlib.pyplot as plt\n",
    "\n",
    "np.random.seed(414) #something you need to create test data set\n",
    "\n",
    "X = np.linspace(0, 15, 1000) #sets x data set from 0 to 15 with a thousand entries\n",
    "y = 3*np.sin(X) + np.random.normal(1 + X, .2, 1000) #sets a related y set\n"
   ]
  },
  {
   "cell_type": "code",
<<<<<<< HEAD
   "execution_count": 2,
=======
   "execution_count": 12,
>>>>>>> origin/master
   "metadata": {
    "collapsed": false
   },
   "outputs": [],
   "source": [
    "train_X, train_y = X[:700], y[:700] #slices x and y at the 700th number\n",
    "test_X, test_y = X[700:], y[700:] #same as above\n",
    "\n",
    "train_df = pd.DataFrame({'X': train_X, 'y': train_y})\n",
    "test_df = pd.DataFrame({'X': test_X, 'y': test_y})"
   ]
  },
  {
   "cell_type": "code",
<<<<<<< HEAD
   "execution_count": 3,
   "metadata": {
    "collapsed": false
   },
   "outputs": [
    {
     "data": {
      "text/plain": [
       "array([  0.        ,   0.01501502,   0.03003003,   0.04504505,\n",
       "         0.06006006,   0.07507508,   0.09009009,   0.10510511,\n",
       "         0.12012012,   0.13513514,   0.15015015,   0.16516517,\n",
       "         0.18018018,   0.1951952 ,   0.21021021,   0.22522523,\n",
       "         0.24024024,   0.25525526,   0.27027027,   0.28528529,\n",
       "         0.3003003 ,   0.31531532,   0.33033033,   0.34534535,\n",
       "         0.36036036,   0.37537538,   0.39039039,   0.40540541,\n",
       "         0.42042042,   0.43543544,   0.45045045,   0.46546547,\n",
       "         0.48048048,   0.4954955 ,   0.51051051,   0.52552553,\n",
       "         0.54054054,   0.55555556,   0.57057057,   0.58558559,\n",
       "         0.6006006 ,   0.61561562,   0.63063063,   0.64564565,\n",
       "         0.66066066,   0.67567568,   0.69069069,   0.70570571,\n",
       "         0.72072072,   0.73573574,   0.75075075,   0.76576577,\n",
       "         0.78078078,   0.7957958 ,   0.81081081,   0.82582583,\n",
       "         0.84084084,   0.85585586,   0.87087087,   0.88588589,\n",
       "         0.9009009 ,   0.91591592,   0.93093093,   0.94594595,\n",
       "         0.96096096,   0.97597598,   0.99099099,   1.00600601,\n",
       "         1.02102102,   1.03603604,   1.05105105,   1.06606607,\n",
       "         1.08108108,   1.0960961 ,   1.11111111,   1.12612613,\n",
       "         1.14114114,   1.15615616,   1.17117117,   1.18618619,\n",
       "         1.2012012 ,   1.21621622,   1.23123123,   1.24624625,\n",
       "         1.26126126,   1.27627628,   1.29129129,   1.30630631,\n",
       "         1.32132132,   1.33633634,   1.35135135,   1.36636637,\n",
       "         1.38138138,   1.3963964 ,   1.41141141,   1.42642643,\n",
       "         1.44144144,   1.45645646,   1.47147147,   1.48648649,\n",
       "         1.5015015 ,   1.51651652,   1.53153153,   1.54654655,\n",
       "         1.56156156,   1.57657658,   1.59159159,   1.60660661,\n",
       "         1.62162162,   1.63663664,   1.65165165,   1.66666667,\n",
       "         1.68168168,   1.6966967 ,   1.71171171,   1.72672673,\n",
       "         1.74174174,   1.75675676,   1.77177177,   1.78678679,\n",
       "         1.8018018 ,   1.81681682,   1.83183183,   1.84684685,\n",
       "         1.86186186,   1.87687688,   1.89189189,   1.90690691,\n",
       "         1.92192192,   1.93693694,   1.95195195,   1.96696697,\n",
       "         1.98198198,   1.996997  ,   2.01201201,   2.02702703,\n",
       "         2.04204204,   2.05705706,   2.07207207,   2.08708709,\n",
       "         2.1021021 ,   2.11711712,   2.13213213,   2.14714715,\n",
       "         2.16216216,   2.17717718,   2.19219219,   2.20720721,\n",
       "         2.22222222,   2.23723724,   2.25225225,   2.26726727,\n",
       "         2.28228228,   2.2972973 ,   2.31231231,   2.32732733,\n",
       "         2.34234234,   2.35735736,   2.37237237,   2.38738739,\n",
       "         2.4024024 ,   2.41741742,   2.43243243,   2.44744745,\n",
       "         2.46246246,   2.47747748,   2.49249249,   2.50750751,\n",
       "         2.52252252,   2.53753754,   2.55255255,   2.56756757,\n",
       "         2.58258258,   2.5975976 ,   2.61261261,   2.62762763,\n",
       "         2.64264264,   2.65765766,   2.67267267,   2.68768769,\n",
       "         2.7027027 ,   2.71771772,   2.73273273,   2.74774775,\n",
       "         2.76276276,   2.77777778,   2.79279279,   2.80780781,\n",
       "         2.82282282,   2.83783784,   2.85285285,   2.86786787,\n",
       "         2.88288288,   2.8978979 ,   2.91291291,   2.92792793,\n",
       "         2.94294294,   2.95795796,   2.97297297,   2.98798799,\n",
       "         3.003003  ,   3.01801802,   3.03303303,   3.04804805,\n",
       "         3.06306306,   3.07807808,   3.09309309,   3.10810811,\n",
       "         3.12312312,   3.13813814,   3.15315315,   3.16816817,\n",
       "         3.18318318,   3.1981982 ,   3.21321321,   3.22822823,\n",
       "         3.24324324,   3.25825826,   3.27327327,   3.28828829,\n",
       "         3.3033033 ,   3.31831832,   3.33333333,   3.34834835,\n",
       "         3.36336336,   3.37837838,   3.39339339,   3.40840841,\n",
       "         3.42342342,   3.43843844,   3.45345345,   3.46846847,\n",
       "         3.48348348,   3.4984985 ,   3.51351351,   3.52852853,\n",
       "         3.54354354,   3.55855856,   3.57357357,   3.58858859,\n",
       "         3.6036036 ,   3.61861862,   3.63363363,   3.64864865,\n",
       "         3.66366366,   3.67867868,   3.69369369,   3.70870871,\n",
       "         3.72372372,   3.73873874,   3.75375375,   3.76876877,\n",
       "         3.78378378,   3.7987988 ,   3.81381381,   3.82882883,\n",
       "         3.84384384,   3.85885886,   3.87387387,   3.88888889,\n",
       "         3.9039039 ,   3.91891892,   3.93393393,   3.94894895,\n",
       "         3.96396396,   3.97897898,   3.99399399,   4.00900901,\n",
       "         4.02402402,   4.03903904,   4.05405405,   4.06906907,\n",
       "         4.08408408,   4.0990991 ,   4.11411411,   4.12912913,\n",
       "         4.14414414,   4.15915916,   4.17417417,   4.18918919,\n",
       "         4.2042042 ,   4.21921922,   4.23423423,   4.24924925,\n",
       "         4.26426426,   4.27927928,   4.29429429,   4.30930931,\n",
       "         4.32432432,   4.33933934,   4.35435435,   4.36936937,\n",
       "         4.38438438,   4.3993994 ,   4.41441441,   4.42942943,\n",
       "         4.44444444,   4.45945946,   4.47447447,   4.48948949,\n",
       "         4.5045045 ,   4.51951952,   4.53453453,   4.54954955,\n",
       "         4.56456456,   4.57957958,   4.59459459,   4.60960961,\n",
       "         4.62462462,   4.63963964,   4.65465465,   4.66966967,\n",
       "         4.68468468,   4.6996997 ,   4.71471471,   4.72972973,\n",
       "         4.74474474,   4.75975976,   4.77477477,   4.78978979,\n",
       "         4.8048048 ,   4.81981982,   4.83483483,   4.84984985,\n",
       "         4.86486486,   4.87987988,   4.89489489,   4.90990991,\n",
       "         4.92492492,   4.93993994,   4.95495495,   4.96996997,\n",
       "         4.98498498,   5.        ,   5.01501502,   5.03003003,\n",
       "         5.04504505,   5.06006006,   5.07507508,   5.09009009,\n",
       "         5.10510511,   5.12012012,   5.13513514,   5.15015015,\n",
       "         5.16516517,   5.18018018,   5.1951952 ,   5.21021021,\n",
       "         5.22522523,   5.24024024,   5.25525526,   5.27027027,\n",
       "         5.28528529,   5.3003003 ,   5.31531532,   5.33033033,\n",
       "         5.34534535,   5.36036036,   5.37537538,   5.39039039,\n",
       "         5.40540541,   5.42042042,   5.43543544,   5.45045045,\n",
       "         5.46546547,   5.48048048,   5.4954955 ,   5.51051051,\n",
       "         5.52552553,   5.54054054,   5.55555556,   5.57057057,\n",
       "         5.58558559,   5.6006006 ,   5.61561562,   5.63063063,\n",
       "         5.64564565,   5.66066066,   5.67567568,   5.69069069,\n",
       "         5.70570571,   5.72072072,   5.73573574,   5.75075075,\n",
       "         5.76576577,   5.78078078,   5.7957958 ,   5.81081081,\n",
       "         5.82582583,   5.84084084,   5.85585586,   5.87087087,\n",
       "         5.88588589,   5.9009009 ,   5.91591592,   5.93093093,\n",
       "         5.94594595,   5.96096096,   5.97597598,   5.99099099,\n",
       "         6.00600601,   6.02102102,   6.03603604,   6.05105105,\n",
       "         6.06606607,   6.08108108,   6.0960961 ,   6.11111111,\n",
       "         6.12612613,   6.14114114,   6.15615616,   6.17117117,\n",
       "         6.18618619,   6.2012012 ,   6.21621622,   6.23123123,\n",
       "         6.24624625,   6.26126126,   6.27627628,   6.29129129,\n",
       "         6.30630631,   6.32132132,   6.33633634,   6.35135135,\n",
       "         6.36636637,   6.38138138,   6.3963964 ,   6.41141141,\n",
       "         6.42642643,   6.44144144,   6.45645646,   6.47147147,\n",
       "         6.48648649,   6.5015015 ,   6.51651652,   6.53153153,\n",
       "         6.54654655,   6.56156156,   6.57657658,   6.59159159,\n",
       "         6.60660661,   6.62162162,   6.63663664,   6.65165165,\n",
       "         6.66666667,   6.68168168,   6.6966967 ,   6.71171171,\n",
       "         6.72672673,   6.74174174,   6.75675676,   6.77177177,\n",
       "         6.78678679,   6.8018018 ,   6.81681682,   6.83183183,\n",
       "         6.84684685,   6.86186186,   6.87687688,   6.89189189,\n",
       "         6.90690691,   6.92192192,   6.93693694,   6.95195195,\n",
       "         6.96696697,   6.98198198,   6.996997  ,   7.01201201,\n",
       "         7.02702703,   7.04204204,   7.05705706,   7.07207207,\n",
       "         7.08708709,   7.1021021 ,   7.11711712,   7.13213213,\n",
       "         7.14714715,   7.16216216,   7.17717718,   7.19219219,\n",
       "         7.20720721,   7.22222222,   7.23723724,   7.25225225,\n",
       "         7.26726727,   7.28228228,   7.2972973 ,   7.31231231,\n",
       "         7.32732733,   7.34234234,   7.35735736,   7.37237237,\n",
       "         7.38738739,   7.4024024 ,   7.41741742,   7.43243243,\n",
       "         7.44744745,   7.46246246,   7.47747748,   7.49249249,\n",
       "         7.50750751,   7.52252252,   7.53753754,   7.55255255,\n",
       "         7.56756757,   7.58258258,   7.5975976 ,   7.61261261,\n",
       "         7.62762763,   7.64264264,   7.65765766,   7.67267267,\n",
       "         7.68768769,   7.7027027 ,   7.71771772,   7.73273273,\n",
       "         7.74774775,   7.76276276,   7.77777778,   7.79279279,\n",
       "         7.80780781,   7.82282282,   7.83783784,   7.85285285,\n",
       "         7.86786787,   7.88288288,   7.8978979 ,   7.91291291,\n",
       "         7.92792793,   7.94294294,   7.95795796,   7.97297297,\n",
       "         7.98798799,   8.003003  ,   8.01801802,   8.03303303,\n",
       "         8.04804805,   8.06306306,   8.07807808,   8.09309309,\n",
       "         8.10810811,   8.12312312,   8.13813814,   8.15315315,\n",
       "         8.16816817,   8.18318318,   8.1981982 ,   8.21321321,\n",
       "         8.22822823,   8.24324324,   8.25825826,   8.27327327,\n",
       "         8.28828829,   8.3033033 ,   8.31831832,   8.33333333,\n",
       "         8.34834835,   8.36336336,   8.37837838,   8.39339339,\n",
       "         8.40840841,   8.42342342,   8.43843844,   8.45345345,\n",
       "         8.46846847,   8.48348348,   8.4984985 ,   8.51351351,\n",
       "         8.52852853,   8.54354354,   8.55855856,   8.57357357,\n",
       "         8.58858859,   8.6036036 ,   8.61861862,   8.63363363,\n",
       "         8.64864865,   8.66366366,   8.67867868,   8.69369369,\n",
       "         8.70870871,   8.72372372,   8.73873874,   8.75375375,\n",
       "         8.76876877,   8.78378378,   8.7987988 ,   8.81381381,\n",
       "         8.82882883,   8.84384384,   8.85885886,   8.87387387,\n",
       "         8.88888889,   8.9039039 ,   8.91891892,   8.93393393,\n",
       "         8.94894895,   8.96396396,   8.97897898,   8.99399399,\n",
       "         9.00900901,   9.02402402,   9.03903904,   9.05405405,\n",
       "         9.06906907,   9.08408408,   9.0990991 ,   9.11411411,\n",
       "         9.12912913,   9.14414414,   9.15915916,   9.17417417,\n",
       "         9.18918919,   9.2042042 ,   9.21921922,   9.23423423,\n",
       "         9.24924925,   9.26426426,   9.27927928,   9.29429429,\n",
       "         9.30930931,   9.32432432,   9.33933934,   9.35435435,\n",
       "         9.36936937,   9.38438438,   9.3993994 ,   9.41441441,\n",
       "         9.42942943,   9.44444444,   9.45945946,   9.47447447,\n",
       "         9.48948949,   9.5045045 ,   9.51951952,   9.53453453,\n",
       "         9.54954955,   9.56456456,   9.57957958,   9.59459459,\n",
       "         9.60960961,   9.62462462,   9.63963964,   9.65465465,\n",
       "         9.66966967,   9.68468468,   9.6996997 ,   9.71471471,\n",
       "         9.72972973,   9.74474474,   9.75975976,   9.77477477,\n",
       "         9.78978979,   9.8048048 ,   9.81981982,   9.83483483,\n",
       "         9.84984985,   9.86486486,   9.87987988,   9.89489489,\n",
       "         9.90990991,   9.92492492,   9.93993994,   9.95495495,\n",
       "         9.96996997,   9.98498498,  10.        ,  10.01501502,\n",
       "        10.03003003,  10.04504505,  10.06006006,  10.07507508,\n",
       "        10.09009009,  10.10510511,  10.12012012,  10.13513514,\n",
       "        10.15015015,  10.16516517,  10.18018018,  10.1951952 ,\n",
       "        10.21021021,  10.22522523,  10.24024024,  10.25525526,\n",
       "        10.27027027,  10.28528529,  10.3003003 ,  10.31531532,\n",
       "        10.33033033,  10.34534535,  10.36036036,  10.37537538,\n",
       "        10.39039039,  10.40540541,  10.42042042,  10.43543544,\n",
       "        10.45045045,  10.46546547,  10.48048048,  10.4954955 ])"
      ]
     },
     "execution_count": 3,
     "metadata": {},
     "output_type": "execute_result"
    }
   ],
   "source": [
    "train_X"
   ]
  },
  {
   "cell_type": "code",
   "execution_count": 37,
=======
   "execution_count": 4,
>>>>>>> origin/master
   "metadata": {
    "collapsed": false
   },
   "outputs": [
    {
     "data": {
      "text/plain": [
       "6.5475412744609836"
      ]
     },
     "execution_count": 4,
     "metadata": {},
     "output_type": "execute_result"
    }
   ],
   "source": [
    "%matplotlib inline\n",
    "#linear\n",
    "poly_1 = smf.ols(formula='y ~ 1 + X', data=train_df).fit()\n",
    "pred = poly_1.predict(test_df)\n",
    "actual = np.array(test_df['y'].tolist())\n",
    "\n",
    "from sklearn.metrics import mean_squared_error\n",
    "mse = mean_squared_error(actual,pred)\n",
    "mse"
   ]
  },
  {
   "cell_type": "code",
   "execution_count": 5,
   "metadata": {
    "collapsed": false
   },
   "outputs": [
    {
     "data": {
      "image/png": "iVBORw0KGgoAAAANSUhEUgAAAXcAAAEACAYAAABI5zaHAAAABHNCSVQICAgIfAhkiAAAAAlwSFlz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\nxPsAAAAASUVORK5CYII=\n",
      "text/plain": [
       "<matplotlib.figure.Figure at 0x11930d310>"
      ]
     },
     "metadata": {},
     "output_type": "display_data"
    }
   ],
   "source": [
    "plt.plot(train_df)\n",
    "plt.plot(test_df)\n",
    "plt.show()"
   ]
  },
  {
   "cell_type": "code",
   "execution_count": null,
   "metadata": {
    "collapsed": false
   },
   "outputs": [],
   "source": []
  },
  {
   "cell_type": "code",
   "execution_count": 6,
   "metadata": {
    "collapsed": false
   },
   "outputs": [
    {
     "data": {
      "text/plain": [
       "7.9873829450136631"
      ]
     },
     "execution_count": 6,
     "metadata": {},
     "output_type": "execute_result"
    }
   ],
   "source": [
    "#quadratic\n",
    "poly_2 = smf.ols(formula='y ~ 1 + X + I(X**2)', data=train_df).fit()\n",
    "pred2 = poly_2.predict(test_df)\n",
    "mse = mean_squared_error(actual,pred2)\n",
    "mse"
   ]
  },
  {
   "cell_type": "markdown",
   "metadata": {
    "collapsed": true
   },
   "source": [
    "These mean square error seem both too low, and they shouldnt be exactly the same. So what am I doing wrong?"
   ]
  },
  {
   "cell_type": "code",
   "execution_count": 7,
   "metadata": {
    "collapsed": false
   },
   "outputs": [
    {
     "data": {
      "text/plain": [
       "199.65481044433017"
      ]
     },
     "execution_count": 7,
     "metadata": {},
     "output_type": "execute_result"
    }
   ],
   "source": [
    "poly_3 = smf.ols(formula = 'y ~ 1 + X + I(X**2) + I(X**3)', data=train_df).fit()\n",
    "pred3 = poly_3.predict(test_df)\n",
    "mean_squared_error(actual, pred3)\n"
   ]
  },
  {
   "cell_type": "code",
   "execution_count": null,
   "metadata": {
    "collapsed": false
   },
   "outputs": [],
   "source": []
  },
  {
   "cell_type": "code",
   "execution_count": null,
   "metadata": {
    "collapsed": true
   },
   "outputs": [],
   "source": []
  }
 ],
 "metadata": {
  "kernelspec": {
   "display_name": "Python 2",
   "language": "python",
   "name": "python2"
  },
  "language_info": {
   "codemirror_mode": {
    "name": "ipython",
    "version": 2
   },
   "file_extension": ".py",
   "mimetype": "text/x-python",
   "name": "python",
   "nbconvert_exporter": "python",
   "pygments_lexer": "ipython2",
   "version": "2.7.11"
  }
 },
 "nbformat": 4,
 "nbformat_minor": 0
}
