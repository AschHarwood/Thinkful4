{
 "cells": [
  {
   "cell_type": "code",
   "execution_count": 1,
   "metadata": {
    "collapsed": false
   },
   "outputs": [],
   "source": [
    "import numpy as np\n",
    "import statsmodels.formula.api as smf\n",
    "import pandas as pd\n",
    "import matplotlib.pyplot as plt\n",
    "\n",
    "np.random.seed(414) #something you need to create test data set\n",
    "\n",
    "X = np.linspace(0, 15, 1000) #sets x data set from 0 to 15 with a thousand entries\n",
    "y = 3*np.sin(X) + np.random.normal(1 + X, .2, 1000) #sets a related y set\n",
    "\n"
   ]
  },
  {
   "cell_type": "code",
   "execution_count": 2,
   "metadata": {
    "collapsed": false
   },
   "outputs": [],
   "source": [
    "train_X, train_y = X[:700], y[:700] #slices x and y at the 700th number\n",
    "test_X, test_y = X[700:], y[700:] #same as above\n",
    "\n",
    "train_df = pd.DataFrame({'X': train_X, 'y': train_y})\n",
    "test_df = pd.DataFrame({'X': test_X, 'y': test_y})"
   ]
  },
  {
   "cell_type": "code",
   "execution_count": 3,
   "metadata": {
    "collapsed": false
   },
   "outputs": [
    {
     "data": {
      "text/plain": [
       "array([  0.        ,   0.01501502,   0.03003003,   0.04504505,\n",
       "         0.06006006,   0.07507508,   0.09009009,   0.10510511,\n",
       "         0.12012012,   0.13513514,   0.15015015,   0.16516517,\n",
       "         0.18018018,   0.1951952 ,   0.21021021,   0.22522523,\n",
       "         0.24024024,   0.25525526,   0.27027027,   0.28528529,\n",
       "         0.3003003 ,   0.31531532,   0.33033033,   0.34534535,\n",
       "         0.36036036,   0.37537538,   0.39039039,   0.40540541,\n",
       "         0.42042042,   0.43543544,   0.45045045,   0.46546547,\n",
       "         0.48048048,   0.4954955 ,   0.51051051,   0.52552553,\n",
       "         0.54054054,   0.55555556,   0.57057057,   0.58558559,\n",
       "         0.6006006 ,   0.61561562,   0.63063063,   0.64564565,\n",
       "         0.66066066,   0.67567568,   0.69069069,   0.70570571,\n",
       "         0.72072072,   0.73573574,   0.75075075,   0.76576577,\n",
       "         0.78078078,   0.7957958 ,   0.81081081,   0.82582583,\n",
       "         0.84084084,   0.85585586,   0.87087087,   0.88588589,\n",
       "         0.9009009 ,   0.91591592,   0.93093093,   0.94594595,\n",
       "         0.96096096,   0.97597598,   0.99099099,   1.00600601,\n",
       "         1.02102102,   1.03603604,   1.05105105,   1.06606607,\n",
       "         1.08108108,   1.0960961 ,   1.11111111,   1.12612613,\n",
       "         1.14114114,   1.15615616,   1.17117117,   1.18618619,\n",
       "         1.2012012 ,   1.21621622,   1.23123123,   1.24624625,\n",
       "         1.26126126,   1.27627628,   1.29129129,   1.30630631,\n",
       "         1.32132132,   1.33633634,   1.35135135,   1.36636637,\n",
       "         1.38138138,   1.3963964 ,   1.41141141,   1.42642643,\n",
       "         1.44144144,   1.45645646,   1.47147147,   1.48648649,\n",
       "         1.5015015 ,   1.51651652,   1.53153153,   1.54654655,\n",
       "         1.56156156,   1.57657658,   1.59159159,   1.60660661,\n",
       "         1.62162162,   1.63663664,   1.65165165,   1.66666667,\n",
       "         1.68168168,   1.6966967 ,   1.71171171,   1.72672673,\n",
       "         1.74174174,   1.75675676,   1.77177177,   1.78678679,\n",
       "         1.8018018 ,   1.81681682,   1.83183183,   1.84684685,\n",
       "         1.86186186,   1.87687688,   1.89189189,   1.90690691,\n",
       "         1.92192192,   1.93693694,   1.95195195,   1.96696697,\n",
       "         1.98198198,   1.996997  ,   2.01201201,   2.02702703,\n",
       "         2.04204204,   2.05705706,   2.07207207,   2.08708709,\n",
       "         2.1021021 ,   2.11711712,   2.13213213,   2.14714715,\n",
       "         2.16216216,   2.17717718,   2.19219219,   2.20720721,\n",
       "         2.22222222,   2.23723724,   2.25225225,   2.26726727,\n",
       "         2.28228228,   2.2972973 ,   2.31231231,   2.32732733,\n",
       "         2.34234234,   2.35735736,   2.37237237,   2.38738739,\n",
       "         2.4024024 ,   2.41741742,   2.43243243,   2.44744745,\n",
       "         2.46246246,   2.47747748,   2.49249249,   2.50750751,\n",
       "         2.52252252,   2.53753754,   2.55255255,   2.56756757,\n",
       "         2.58258258,   2.5975976 ,   2.61261261,   2.62762763,\n",
       "         2.64264264,   2.65765766,   2.67267267,   2.68768769,\n",
       "         2.7027027 ,   2.71771772,   2.73273273,   2.74774775,\n",
       "         2.76276276,   2.77777778,   2.79279279,   2.80780781,\n",
       "         2.82282282,   2.83783784,   2.85285285,   2.86786787,\n",
       "         2.88288288,   2.8978979 ,   2.91291291,   2.92792793,\n",
       "         2.94294294,   2.95795796,   2.97297297,   2.98798799,\n",
       "         3.003003  ,   3.01801802,   3.03303303,   3.04804805,\n",
       "         3.06306306,   3.07807808,   3.09309309,   3.10810811,\n",
       "         3.12312312,   3.13813814,   3.15315315,   3.16816817,\n",
       "         3.18318318,   3.1981982 ,   3.21321321,   3.22822823,\n",
       "         3.24324324,   3.25825826,   3.27327327,   3.28828829,\n",
       "         3.3033033 ,   3.31831832,   3.33333333,   3.34834835,\n",
       "         3.36336336,   3.37837838,   3.39339339,   3.40840841,\n",
       "         3.42342342,   3.43843844,   3.45345345,   3.46846847,\n",
       "         3.48348348,   3.4984985 ,   3.51351351,   3.52852853,\n",
       "         3.54354354,   3.55855856,   3.57357357,   3.58858859,\n",
       "         3.6036036 ,   3.61861862,   3.63363363,   3.64864865,\n",
       "         3.66366366,   3.67867868,   3.69369369,   3.70870871,\n",
       "         3.72372372,   3.73873874,   3.75375375,   3.76876877,\n",
       "         3.78378378,   3.7987988 ,   3.81381381,   3.82882883,\n",
       "         3.84384384,   3.85885886,   3.87387387,   3.88888889,\n",
       "         3.9039039 ,   3.91891892,   3.93393393,   3.94894895,\n",
       "         3.96396396,   3.97897898,   3.99399399,   4.00900901,\n",
       "         4.02402402,   4.03903904,   4.05405405,   4.06906907,\n",
       "         4.08408408,   4.0990991 ,   4.11411411,   4.12912913,\n",
       "         4.14414414,   4.15915916,   4.17417417,   4.18918919,\n",
       "         4.2042042 ,   4.21921922,   4.23423423,   4.24924925,\n",
       "         4.26426426,   4.27927928,   4.29429429,   4.30930931,\n",
       "         4.32432432,   4.33933934,   4.35435435,   4.36936937,\n",
       "         4.38438438,   4.3993994 ,   4.41441441,   4.42942943,\n",
       "         4.44444444,   4.45945946,   4.47447447,   4.48948949,\n",
       "         4.5045045 ,   4.51951952,   4.53453453,   4.54954955,\n",
       "         4.56456456,   4.57957958,   4.59459459,   4.60960961,\n",
       "         4.62462462,   4.63963964,   4.65465465,   4.66966967,\n",
       "         4.68468468,   4.6996997 ,   4.71471471,   4.72972973,\n",
       "         4.74474474,   4.75975976,   4.77477477,   4.78978979,\n",
       "         4.8048048 ,   4.81981982,   4.83483483,   4.84984985,\n",
       "         4.86486486,   4.87987988,   4.89489489,   4.90990991,\n",
       "         4.92492492,   4.93993994,   4.95495495,   4.96996997,\n",
       "         4.98498498,   5.        ,   5.01501502,   5.03003003,\n",
       "         5.04504505,   5.06006006,   5.07507508,   5.09009009,\n",
       "         5.10510511,   5.12012012,   5.13513514,   5.15015015,\n",
       "         5.16516517,   5.18018018,   5.1951952 ,   5.21021021,\n",
       "         5.22522523,   5.24024024,   5.25525526,   5.27027027,\n",
       "         5.28528529,   5.3003003 ,   5.31531532,   5.33033033,\n",
       "         5.34534535,   5.36036036,   5.37537538,   5.39039039,\n",
       "         5.40540541,   5.42042042,   5.43543544,   5.45045045,\n",
       "         5.46546547,   5.48048048,   5.4954955 ,   5.51051051,\n",
       "         5.52552553,   5.54054054,   5.55555556,   5.57057057,\n",
       "         5.58558559,   5.6006006 ,   5.61561562,   5.63063063,\n",
       "         5.64564565,   5.66066066,   5.67567568,   5.69069069,\n",
       "         5.70570571,   5.72072072,   5.73573574,   5.75075075,\n",
       "         5.76576577,   5.78078078,   5.7957958 ,   5.81081081,\n",
       "         5.82582583,   5.84084084,   5.85585586,   5.87087087,\n",
       "         5.88588589,   5.9009009 ,   5.91591592,   5.93093093,\n",
       "         5.94594595,   5.96096096,   5.97597598,   5.99099099,\n",
       "         6.00600601,   6.02102102,   6.03603604,   6.05105105,\n",
       "         6.06606607,   6.08108108,   6.0960961 ,   6.11111111,\n",
       "         6.12612613,   6.14114114,   6.15615616,   6.17117117,\n",
       "         6.18618619,   6.2012012 ,   6.21621622,   6.23123123,\n",
       "         6.24624625,   6.26126126,   6.27627628,   6.29129129,\n",
       "         6.30630631,   6.32132132,   6.33633634,   6.35135135,\n",
       "         6.36636637,   6.38138138,   6.3963964 ,   6.41141141,\n",
       "         6.42642643,   6.44144144,   6.45645646,   6.47147147,\n",
       "         6.48648649,   6.5015015 ,   6.51651652,   6.53153153,\n",
       "         6.54654655,   6.56156156,   6.57657658,   6.59159159,\n",
       "         6.60660661,   6.62162162,   6.63663664,   6.65165165,\n",
       "         6.66666667,   6.68168168,   6.6966967 ,   6.71171171,\n",
       "         6.72672673,   6.74174174,   6.75675676,   6.77177177,\n",
       "         6.78678679,   6.8018018 ,   6.81681682,   6.83183183,\n",
       "         6.84684685,   6.86186186,   6.87687688,   6.89189189,\n",
       "         6.90690691,   6.92192192,   6.93693694,   6.95195195,\n",
       "         6.96696697,   6.98198198,   6.996997  ,   7.01201201,\n",
       "         7.02702703,   7.04204204,   7.05705706,   7.07207207,\n",
       "         7.08708709,   7.1021021 ,   7.11711712,   7.13213213,\n",
       "         7.14714715,   7.16216216,   7.17717718,   7.19219219,\n",
       "         7.20720721,   7.22222222,   7.23723724,   7.25225225,\n",
       "         7.26726727,   7.28228228,   7.2972973 ,   7.31231231,\n",
       "         7.32732733,   7.34234234,   7.35735736,   7.37237237,\n",
       "         7.38738739,   7.4024024 ,   7.41741742,   7.43243243,\n",
       "         7.44744745,   7.46246246,   7.47747748,   7.49249249,\n",
       "         7.50750751,   7.52252252,   7.53753754,   7.55255255,\n",
       "         7.56756757,   7.58258258,   7.5975976 ,   7.61261261,\n",
       "         7.62762763,   7.64264264,   7.65765766,   7.67267267,\n",
       "         7.68768769,   7.7027027 ,   7.71771772,   7.73273273,\n",
       "         7.74774775,   7.76276276,   7.77777778,   7.79279279,\n",
       "         7.80780781,   7.82282282,   7.83783784,   7.85285285,\n",
       "         7.86786787,   7.88288288,   7.8978979 ,   7.91291291,\n",
       "         7.92792793,   7.94294294,   7.95795796,   7.97297297,\n",
       "         7.98798799,   8.003003  ,   8.01801802,   8.03303303,\n",
       "         8.04804805,   8.06306306,   8.07807808,   8.09309309,\n",
       "         8.10810811,   8.12312312,   8.13813814,   8.15315315,\n",
       "         8.16816817,   8.18318318,   8.1981982 ,   8.21321321,\n",
       "         8.22822823,   8.24324324,   8.25825826,   8.27327327,\n",
       "         8.28828829,   8.3033033 ,   8.31831832,   8.33333333,\n",
       "         8.34834835,   8.36336336,   8.37837838,   8.39339339,\n",
       "         8.40840841,   8.42342342,   8.43843844,   8.45345345,\n",
       "         8.46846847,   8.48348348,   8.4984985 ,   8.51351351,\n",
       "         8.52852853,   8.54354354,   8.55855856,   8.57357357,\n",
       "         8.58858859,   8.6036036 ,   8.61861862,   8.63363363,\n",
       "         8.64864865,   8.66366366,   8.67867868,   8.69369369,\n",
       "         8.70870871,   8.72372372,   8.73873874,   8.75375375,\n",
       "         8.76876877,   8.78378378,   8.7987988 ,   8.81381381,\n",
       "         8.82882883,   8.84384384,   8.85885886,   8.87387387,\n",
       "         8.88888889,   8.9039039 ,   8.91891892,   8.93393393,\n",
       "         8.94894895,   8.96396396,   8.97897898,   8.99399399,\n",
       "         9.00900901,   9.02402402,   9.03903904,   9.05405405,\n",
       "         9.06906907,   9.08408408,   9.0990991 ,   9.11411411,\n",
       "         9.12912913,   9.14414414,   9.15915916,   9.17417417,\n",
       "         9.18918919,   9.2042042 ,   9.21921922,   9.23423423,\n",
       "         9.24924925,   9.26426426,   9.27927928,   9.29429429,\n",
       "         9.30930931,   9.32432432,   9.33933934,   9.35435435,\n",
       "         9.36936937,   9.38438438,   9.3993994 ,   9.41441441,\n",
       "         9.42942943,   9.44444444,   9.45945946,   9.47447447,\n",
       "         9.48948949,   9.5045045 ,   9.51951952,   9.53453453,\n",
       "         9.54954955,   9.56456456,   9.57957958,   9.59459459,\n",
       "         9.60960961,   9.62462462,   9.63963964,   9.65465465,\n",
       "         9.66966967,   9.68468468,   9.6996997 ,   9.71471471,\n",
       "         9.72972973,   9.74474474,   9.75975976,   9.77477477,\n",
       "         9.78978979,   9.8048048 ,   9.81981982,   9.83483483,\n",
       "         9.84984985,   9.86486486,   9.87987988,   9.89489489,\n",
       "         9.90990991,   9.92492492,   9.93993994,   9.95495495,\n",
       "         9.96996997,   9.98498498,  10.        ,  10.01501502,\n",
       "        10.03003003,  10.04504505,  10.06006006,  10.07507508,\n",
       "        10.09009009,  10.10510511,  10.12012012,  10.13513514,\n",
       "        10.15015015,  10.16516517,  10.18018018,  10.1951952 ,\n",
       "        10.21021021,  10.22522523,  10.24024024,  10.25525526,\n",
       "        10.27027027,  10.28528529,  10.3003003 ,  10.31531532,\n",
       "        10.33033033,  10.34534535,  10.36036036,  10.37537538,\n",
       "        10.39039039,  10.40540541,  10.42042042,  10.43543544,\n",
       "        10.45045045,  10.46546547,  10.48048048,  10.4954955 ])"
      ]
     },
     "execution_count": 3,
     "metadata": {},
     "output_type": "execute_result"
    }
   ],
   "source": [
    "train_X"
   ]
  },
  {
   "cell_type": "code",
   "execution_count": 37,
   "metadata": {
    "collapsed": false
   },
   "outputs": [
    {
     "data": {
      "text/plain": [
       "0.47095520405316166"
      ]
     },
     "execution_count": 37,
     "metadata": {},
     "output_type": "execute_result"
    }
   ],
   "source": [
    "%matplotlib inline\n",
    "#linear\n",
    "ploy_1 = smf.ols(formula='y ~ 1 + X', data=train_df).fit()\n",
    "pred = poly_1.predict(test_df)\n",
    "actual = np.array(test_df['y'].tolist())\n",
    "\n",
    "from sklearn.metrics import mean_squared_error\n",
    "mse = mean_squared_error(actual,pred)\n",
    "mse"
   ]
  },
  {
   "cell_type": "code",
   "execution_count": 38,
   "metadata": {
    "collapsed": false
   },
   "outputs": [
    {
     "data": {
      "image/png": "[encoded data removed]",
      "text/plain": [
       "<matplotlib.figure.Figure at 0x108ab6750>"
      ]
     },
     "metadata": {},
     "output_type": "display_data"
    }
   ],
   "source": [
    "plt.plot(train_df)\n",
    "plt.plot(test_df)\n",
    "plt.show()"
   ]
  },
  {
   "cell_type": "code",
   "execution_count": null,
   "metadata": {
    "collapsed": false
   },
   "outputs": [],
   "source": []
  },
  {
   "cell_type": "code",
   "execution_count": 45,
   "metadata": {
    "collapsed": false
   },
   "outputs": [
    {
     "data": {
      "text/plain": [
       "7.9873829450136524"
      ]
     },
     "execution_count": 45,
     "metadata": {},
     "output_type": "execute_result"
    }
   ],
   "source": [
    "#quadratic\n",
    "poly_2 = smf.ols(formula='y ~ 1 + X + I(X**2)', data=train_df).fit()\n",
    "pred2 = poly_2.predict(test_df)\n",
    "mse = mean_squared_error(actual,pred2)\n",
    "mse"
   ]
  },
  {
   "cell_type": "markdown",
   "metadata": {
    "collapsed": true
   },
   "source": [
    "These mean square error seem both too low, and they shouldnt be exactly the same. So what am I doing wrong?"
   ]
  },
  {
   "cell_type": "code",
   "execution_count": 44,
   "metadata": {
    "collapsed": false
   },
   "outputs": [
    {
     "data": {
      "text/plain": [
       "199.65481044432872"
      ]
     },
     "execution_count": 44,
     "metadata": {},
     "output_type": "execute_result"
    }
   ],
   "source": [
    "poly_3 = smf.ols(formula = 'y ~ 1 + X + I(X**2) + I(X**3)', data=train_df).fit()\n",
    "pred3 = poly_3.predict(test_df)\n",
    "mean_squared_error(actual, pred3)\n"
   ]
  },
  {
   "cell_type": "code",
   "execution_count": null,
   "metadata": {
    "collapsed": false
   },
   "outputs": [],
   "source": []
  },
  {
   "cell_type": "code",
   "execution_count": null,
   "metadata": {
    "collapsed": true
   },
   "outputs": [],
   "source": []
  }
 ],
 "metadata": {
  "kernelspec": {
   "display_name": "Python 2",
   "language": "python",
   "name": "python2"
  },
  "language_info": {
   "codemirror_mode": {
    "name": "ipython",
    "version": 2
   },
   "file_extension": ".py",
   "mimetype": "text/x-python",
   "name": "python",
   "nbconvert_exporter": "python",
   "pygments_lexer": "ipython2",
   "version": "2.7.10"
  }
 },
 "nbformat": 4,
 "nbformat_minor": 0
}
