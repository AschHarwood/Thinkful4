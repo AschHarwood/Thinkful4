{
 "cells": [
  {
   "cell_type": "code",
   "execution_count": 11,
   "metadata": {
    "collapsed": false
   },
   "outputs": [
    {
     "ename": "TypeError",
     "evalue": "sequence item 0: expected string, numpy.int64 found",
     "output_type": "error",
     "traceback": [
      "\u001b[0;31m---------------------------------------------------------------------------\u001b[0m",
      "\u001b[0;31mTypeError\u001b[0m                                 Traceback (most recent call last)",
      "\u001b[0;32m<ipython-input-11-f8ce16c4741c>\u001b[0m in \u001b[0;36m<module>\u001b[0;34m()\u001b[0m\n\u001b[1;32m     71\u001b[0m \u001b[0;32mwith\u001b[0m \u001b[0mcon\u001b[0m\u001b[0;34m:\u001b[0m\u001b[0;34m\u001b[0m\u001b[0m\n\u001b[1;32m     72\u001b[0m         \u001b[0;31m#cur.execute(\"DROP TABLE available_bikes\")\u001b[0m\u001b[0;34m\u001b[0m\u001b[0;34m\u001b[0m\u001b[0m\n\u001b[0;32m---> 73\u001b[0;31m         \u001b[0mcur\u001b[0m\u001b[0;34m.\u001b[0m\u001b[0mexecute\u001b[0m\u001b[0;34m(\u001b[0m\u001b[0;34m\"CREATE TABLE available_bikes ( execution_time INT, \"\u001b[0m \u001b[0;34m+\u001b[0m \u001b[0;34m\", \"\u001b[0m\u001b[0;34m.\u001b[0m\u001b[0mjoin\u001b[0m\u001b[0;34m(\u001b[0m\u001b[0mstation_ids\u001b[0m\u001b[0;34m)\u001b[0m \u001b[0;34m+\u001b[0m \u001b[0;34m\");\"\u001b[0m\u001b[0;34m)\u001b[0m\u001b[0;34m\u001b[0m\u001b[0m\n\u001b[0m\u001b[1;32m     74\u001b[0m \u001b[0;34m\u001b[0m\u001b[0m\n\u001b[1;32m     75\u001b[0m \u001b[0;34m\u001b[0m\u001b[0m\n",
      "\u001b[0;31mTypeError\u001b[0m: sequence item 0: expected string, numpy.int64 found"
     ]
    }
   ],
   "source": [
    "# %load citibikes.py\n",
    "\"\"\"import statements\"\"\"\n",
    "\n",
    "import requests\n",
    "from pandas.io.json import json_normalize\n",
    "import time\n",
    "from dateutil.parser import parse\n",
    "import collections\n",
    "import pandas as pd \n",
    "import sqlite3 as lite\n",
    "\n",
    "\n",
    "\n",
    "\n",
    "#download citibike data\n",
    "r = requests.get('http://www.citibikenyc.com/stations/json')\n",
    "\n",
    "\n",
    "#get keys from citibikes dict\n",
    "\n",
    "r.json().keys\n",
    "\n",
    "#def create_dataframe():\n",
    "df = json_normalize(r.json()['stationBeanList'])\n",
    "\n",
    "con = lite.connect('citi_bike2.db')\n",
    "\n",
    "cur = con.cursor()\n",
    "\n",
    "#def create_station_ids():\n",
    "station_ids = df['id'].tolist()\n",
    "\n",
    "\n",
    "station_id_strings = ['_' + str(x) + 'INT' for x in station_ids] #creates new column headings out of ids\n",
    "\n",
    "exec_time = parse(r.json()['executionTime'])\n",
    "\n",
    "\n",
    "id_bikes = collections.defaultdict(int)\n",
    "\n",
    "for station in r.json()['stationBeanList']:\n",
    "\tid_bikes[station['id']] = station['availableBikes']\n",
    "\n",
    "\n",
    "key_list = []\n",
    "for station in r.json()['stationBeanList']:\n",
    "\tfor k in station.keys():\n",
    "\t\tif k not in key_list:\n",
    "\t\t\tkey_list.append(k)\n",
    "\n",
    "\n",
    "\n",
    "# SQL Functions\n",
    "\n",
    "\n",
    "# create_reference_table():\n",
    "\n",
    "with con:\n",
    "\tcur.execute('DROP TABLE citibike_reference')\n",
    "\tcur.execute('CREATE TABLE citibike_reference (id INT PRIMARY KEY, totalDocks INT, city TEXT, altitude INT, stAddress2 TEXT, longitude NUMERIC, postalCode TEXT, testStation TEXT, stAddress1 TEXT, stationName TEXT, landMark TEXT, latitude NUMERIC, location TEXT)')\n",
    "\n",
    "\n",
    "# insert_into_table():\n",
    "sql = \"INSERT INTO citibike_reference(id, totalDocks, city, altitude, stAddress2, longitude, postalCode, testStation, stAddress1, stationName, landMark, latitude, location) VALUES (?,?,?,?,?,?,?,?,?,?,?,?,?)\"\n",
    "\n",
    "with con:\n",
    "\tfor station in r.json()['stationBeanList']:\n",
    "\t\tcur.execute(sql,(station['id'], station['totalDocks'], station['city'], station['altitude'], station['stAddress2'], station['longitude'], station['postalCode'], station['testStation'], station['stAddress1'], station['stationName'], station['landMark'], station['latitude'], station['location']))\n",
    "\n",
    "# create_available_bikes_table():\n",
    "with con:\n",
    "\t#cur.execute(\"DROP TABLE available_bikes\")\n",
    "\tcur.execute(\"CREATE TABLE available_bikes ( execution_time INT, \" + \", \".join(station_ids) + \");\")\n",
    "\n",
    "\n",
    "# insert_into_available_bikes():\n",
    "with con:\n",
    "\tcur.execute('INSERT INTO available_bikes (execution_time)'' VALUES(?)', (exec_time.strftime('%s'),))\n",
    "\n",
    "with con:\n",
    "\tfor k,v in id_bikes.iteritems():\n",
    "\t\tcur.execute(\"UPDATE available_bikes SET _\" + str(k) + \" = \" + str(v) + \" WHERE execution_time = \" + exec_time.strftime('%s') + \";\")\n",
    "\n",
    "\n",
    "\n",
    "\n",
    "\n",
    "\n",
    "\n",
    "\n",
    "\n",
    "\n",
    "\n",
    "\n"
   ]
  },
  {
   "cell_type": "code",
   "execution_count": null,
   "metadata": {
    "collapsed": true
   },
   "outputs": [],
   "source": []
  },
  {
   "cell_type": "code",
   "execution_count": null,
   "metadata": {
    "collapsed": true
   },
   "outputs": [],
   "source": []
  }
 ],
 "metadata": {
  "kernelspec": {
   "display_name": "Python 2",
   "language": "python",
   "name": "python2"
  },
  "language_info": {
   "codemirror_mode": {
    "name": "ipython",
    "version": 2
   },
   "file_extension": ".py",
   "mimetype": "text/x-python",
   "name": "python",
   "nbconvert_exporter": "python",
   "pygments_lexer": "ipython2",
   "version": "2.7.10"
  }
 },
 "nbformat": 4,
 "nbformat_minor": 0
}
